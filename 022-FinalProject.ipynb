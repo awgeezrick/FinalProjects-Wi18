{
 "cells": [
  {
   "cell_type": "markdown",
   "metadata": {},
   "source": [
    "# Final Project: Correlation between Starbucks Location Amount Per Zipcode and Income of the Area"
   ]
  },
  {
   "cell_type": "markdown",
   "metadata": {},
   "source": [
    "### Group Member PIDs:"
   ]
  },
  {
   "cell_type": "markdown",
   "metadata": {},
   "source": [
    "- A12347131\n",
    "- A12026074\n",
    "- A12025800\n",
    "- A11367317\n",
    "- A12326499"
   ]
  },
  {
   "cell_type": "markdown",
   "metadata": {},
   "source": [
    "## Introduction and Background"
   ]
  },
  {
   "cell_type": "markdown",
   "metadata": {},
   "source": [
    "### Research Question"
   ]
  },
  {
   "cell_type": "markdown",
   "metadata": {},
   "source": [
    "Our research question is focused around the amount of Starbucks in relation to the income areas around the US. Specifically, what is the nature of the correlation between the income of a zipcode and the amount Starbucks in that zipcode?"
   ]
  },
  {
   "cell_type": "markdown",
   "metadata": {},
   "source": [
    "### Hypothesis"
   ]
  },
  {
   "cell_type": "markdown",
   "metadata": {},
   "source": [
    "Our prediction would be that there would be a positive correlation between income and location numbers. Starbucks is known as a more expensive coffee chain, and as such a higher income would theoretically be needed in order to afford purchasing on a daily/weekly basis. Thus, if our results indicate a relationship we should be able to predict whether one zipcode would more likely have more Starbucks locations than another zipcode based solely on income. "
   ]
  },
  {
   "cell_type": "markdown",
   "metadata": {},
   "source": [
    "### Background and Prior Work"
   ]
  },
  {
   "cell_type": "markdown",
   "metadata": {},
   "source": [
    "In our background work, one of the references we found was a strategic analysis of Starbucks done at Harvard. In it, they note that Starbucks prides itself on the high quality and experience that it brings to its customers. Thus, this is why Starbucks needs to be a bit higher priced than that of its competitors. Since it needs to distinguish itself, it needs to have these higher prices. In order to sustain these higher prices though they need enough people to purchase it. This is why we theorize there are more in the higher income areas. Only the higher income customers would be able to support multiple establishments around them. When looking to see if anyone had done major research on this previously, one thing that we were able to find was a map created that plotted all of the Starbucks locations on it with incomes as well. Though visually, it seems that there are more locations in areas with higher incomes, no actually tests were performed. This was simply just a qualitative example showing that there are higher clusters of locations around these high income areas. Though there may be another explanation that the higher income areas are more rural areas, there was no test to see whether income and amount were actually correlated. This is an important question because it would let Starbucks know if there were any areas that should have more locations next to it. If there are outliers or amounts of locations that fell below the predicted amount, it might be possible that more stores could be added in that area that would be able to be sustained, given that they acted like the other areas similar in income to it.\n",
    "\n",
    "References: \n",
    "- Harvard - Strategic Analysis of Starbucks Corporation https://scholar.harvard.edu/files/nithingeereddy/files/starbucks_case_analysis.pdf \n",
    "- Observational Map - Income Level and Location \n",
    "https://www.arcgis.com/home/webmap/viewer.html?webmap=c4199423e294410286d3e22b71a6b3cc"
   ]
  },
  {
   "cell_type": "code",
   "execution_count": 1,
   "metadata": {
    "collapsed": true
   },
   "outputs": [],
   "source": [
    "#Imports\n",
    " \n",
    "import numpy as np\n",
    "import pandas as pd\n",
    "from pandas.tools.plotting import scatter_matrix\n",
    "import matplotlib.pyplot as plt\n",
    "import patsy\n",
    "import statsmodels.api as sm\n",
    "from scipy.stats import ttest_ind\n",
    "from scipy.cluster.vq import whiten"
   ]
  },
  {
   "cell_type": "markdown",
   "metadata": {},
   "source": [
    "## Data Description"
   ]
  },
  {
   "cell_type": "markdown",
   "metadata": {},
   "source": [
    "### Datasets"
   ]
  },
  {
   "cell_type": "markdown",
   "metadata": {},
   "source": [
    "Starbucks: \n",
    "- Dataset Name: All Starbucks Locations in the World \n",
    "- Link to Dataset: https://www.kaggle.com/starbucks/store-locations \n",
    "- Number of observations: 25,150 (13,500 in the US) \n",
    "- This data set maps all the Starbucks in the world. The set looks at their name, phone number, zip code, store number, ownership type, street, city, country, and coordinates.\n",
    "- 'Starbucks.csv'\n",
    "\n",
    "Income: \n",
    "- Dataset Name: SOI Tax Stats \n",
    "- Individual Income Tax Statistics \n",
    "- 2014 ZIP Code Data (SOI) \n",
    "- Link: https://www.irs.gov/uac/soi-tax-stats-individual-income-tax-statistics-2014-zip-code-data-soi \n",
    "    - Download the file w/o the agi\n",
    "- Number of observations: 166,687 \n",
    "- Looks at all the household incomes of the country by Zip Code based on people’s tax returns\n",
    "- 'Income.csv'"
   ]
  },
  {
   "cell_type": "markdown",
   "metadata": {},
   "source": [
    "## Data Cleaning / Pre-Processing"
   ]
  },
  {
   "cell_type": "markdown",
   "metadata": {},
   "source": [
    "Reading in the files and making them into pandas dataframes"
   ]
  },
  {
   "cell_type": "code",
   "execution_count": 2,
   "metadata": {
    "collapsed": false
   },
   "outputs": [
    {
     "name": "stdout",
     "output_type": "stream",
     "text": [
      "       Brand  Store Number        Store Name Ownership Type  \\\n",
      "0  Starbucks  47370-257954     Meritxell, 96       Licensed   \n",
      "1  Starbucks  22331-212325  Ajman Drive Thru       Licensed   \n",
      "2  Starbucks  47089-256771         Dana Mall       Licensed   \n",
      "3  Starbucks  22126-218024        Twofour 54       Licensed   \n",
      "4  Starbucks  17127-178586      Al Ain Tower       Licensed   \n",
      "\n",
      "                    Street Address              City State/Province Country  \\\n",
      "0                Av. Meritxell, 96  Andorra la Vella              7      AD   \n",
      "1             1 Street 69, Al Jarf             Ajman             AJ      AE   \n",
      "2     Sheikh Khalifa Bin Zayed St.             Ajman             AJ      AE   \n",
      "3                  Al Salam Street         Abu Dhabi             AZ      AE   \n",
      "4  Khaldiya Area, Abu Dhabi Island         Abu Dhabi             AZ      AE   \n",
      "\n",
      "  Postcode Phone Number                 Timezone  Longitude  Latitude  \n",
      "0    AD500    376818720  GMT+1:00 Europe/Andorra       1.53     42.51  \n",
      "1      NaN          NaN     GMT+04:00 Asia/Dubai      55.47     25.42  \n",
      "2      NaN          NaN     GMT+04:00 Asia/Dubai      55.47     25.39  \n",
      "3      NaN          NaN     GMT+04:00 Asia/Dubai      54.38     24.48  \n",
      "4      NaN          NaN     GMT+04:00 Asia/Dubai      54.54     24.51  \n",
      "   STATEFIPS STATE  ZIPCODE  AGI_STUB         N1     MARS1     MARS2  \\\n",
      "0          1    AL        0         0  2020720.0  808290.0  756670.0   \n",
      "1          1    AL    35004         0     4980.0    1980.0    2180.0   \n",
      "2          1    AL    35005         0     3250.0    1350.0    1000.0   \n",
      "3          1    AL    35006         0     1250.0     450.0     620.0   \n",
      "4          1    AL    35007         0    12020.0    4680.0    5300.0   \n",
      "\n",
      "      MARS4       PREP         N2    ...         N10300      A10300   N85530  \\\n",
      "0  417240.0  1179640.0  4144380.0    ...      1455050.0  13117549.0  19700.0   \n",
      "1     700.0     2480.0    10090.0    ...         3980.0     26386.0      0.0   \n",
      "2     840.0     1860.0     6460.0    ...         2290.0      9756.0      0.0   \n",
      "3     160.0      850.0     2660.0    ...          980.0      5527.0      0.0   \n",
      "4    1750.0     5550.0    25520.0    ...         9460.0     73418.0     60.0   \n",
      "\n",
      "    A85530   N85300   A85300    N11901     A11901     N11902     A11902  \n",
      "0  34065.0  25720.0  89952.0  350280.0  1567539.0  1596160.0  4748204.0  \n",
      "1      0.0     20.0     45.0     860.0     2164.0     3980.0    10456.0  \n",
      "2      0.0      0.0      0.0     390.0      781.0     2800.0     7918.0  \n",
      "3      0.0      0.0      0.0     200.0      403.0     1020.0     2834.0  \n",
      "4     61.0     90.0    109.0    2560.0     9270.0     9090.0    23124.0  \n",
      "\n",
      "[5 rows x 127 columns]\n"
     ]
    }
   ],
   "source": [
    "locations_csv = 'Starbucks.csv'\n",
    "sb_df = pd.read_csv(locations_csv)\n",
    " \n",
    "incomes_csv = 'Income.csv'\n",
    "inc_df = pd.read_csv(incomes_csv)\n",
    "print(sb_df.head(5))\n",
    "print(inc_df.head(5))"
   ]
  },
  {
   "cell_type": "markdown",
   "metadata": {},
   "source": [
    "Next we reduced the Dataframes to just the columns that we needed. \n",
    "\n",
    "For the Starbucks file this was just the rows that included the locations in the US, and then only the Zipcode column is needed. Each row represents one location. \n",
    "\n",
    "For the income file, we reduced it to the Zipcode column, as well as the column titled AO4800 which is the taxable income for that area."
   ]
  },
  {
   "cell_type": "code",
   "execution_count": 3,
   "metadata": {
    "collapsed": false
   },
   "outputs": [
    {
     "name": "stdout",
     "output_type": "stream",
     "text": [
      "        Postcode\n",
      "11964  995042300\n",
      "11965  995073444\n",
      "11966  995153596\n",
      "11967      99515\n",
      "11968  995152050\n",
      "   ZIPCODE      A04800\n",
      "0        0  71406969.0\n",
      "1    35004    174934.0\n",
      "2    35005     71144.0\n",
      "3    35006     37333.0\n",
      "4    35007    447297.0\n"
     ]
    }
   ],
   "source": [
    "sb_df = sb_df[sb_df.Country == 'US']\n",
    "sb_df = sb_df[['Postcode']]\n",
    " \n",
    "inc_df = inc_df[['ZIPCODE', 'A04800']]\n",
    "print(sb_df.head(5))\n",
    "print(inc_df.head(5))"
   ]
  },
  {
   "cell_type": "markdown",
   "metadata": {},
   "source": [
    "Then we took all of the Zipcodes in the Starbucks files and made sure that it was only the first five digits. Some of the Zipcodes had the extra four digits for more specific regions, but the income file does not have these, and as such we trimmed it down to only the first five digits. "
   ]
  },
  {
   "cell_type": "code",
   "execution_count": 4,
   "metadata": {
    "collapsed": false
   },
   "outputs": [
    {
     "name": "stdout",
     "output_type": "stream",
     "text": [
      "      Postcode\n",
      "11964    99504\n",
      "11965    99507\n",
      "11966    99515\n",
      "11967    99515\n",
      "11968    99515\n"
     ]
    }
   ],
   "source": [
    "for zip_code in sb_df['Postcode']:\n",
    "    zip_code = str(zip_code)\n",
    "    sb_df.loc[sb_df['Postcode'] == zip_code] = zip_code[:5]\n",
    "print(sb_df.head(5))"
   ]
  },
  {
   "cell_type": "markdown",
   "metadata": {},
   "source": [
    "We renamed the A04800 column in the Income Dataframe to income in order to make it easier to work with as well as labelling it correctly."
   ]
  },
  {
   "cell_type": "code",
   "execution_count": 5,
   "metadata": {
    "collapsed": false
   },
   "outputs": [
    {
     "name": "stdout",
     "output_type": "stream",
     "text": [
      "   ZIPCODE      income\n",
      "0        0  71406969.0\n",
      "1    35004    174934.0\n",
      "2    35005     71144.0\n",
      "3    35006     37333.0\n",
      "4    35007    447297.0\n"
     ]
    }
   ],
   "source": [
    "inc_df.rename(columns={'A04800' : 'income'}, inplace=True)\n",
    "print(inc_df.head(5))"
   ]
  },
  {
   "cell_type": "markdown",
   "metadata": {},
   "source": [
    "Since we are interesting the amount of locations per zipcode, we then wrote code in order to count how many locations were in each zipcode and saved that into a new dataframe."
   ]
  },
  {
   "cell_type": "code",
   "execution_count": 6,
   "metadata": {
    "collapsed": false
   },
   "outputs": [
    {
     "name": "stdout",
     "output_type": "stream",
     "text": [
      "       AMOUNT ZIPCODE\n",
      "89109      32   89109\n",
      "98101      24   98101\n",
      "90045      21   90045\n",
      "10019      20   10019\n",
      "92101      20   92101\n"
     ]
    }
   ],
   "source": [
    "sb_nums = sb_df['Postcode'].value_counts()\n",
    "sb_zipkeys = sb_nums.keys()\n",
    "sb_zipkeys = sb_zipkeys.to_series()\n",
    "for i, val in sb_zipkeys.iteritems():\n",
    "    sb_zipkeys[i] = int(val)\n",
    "sb_locs = pd.concat([sb_nums, sb_zipkeys], axis = 1)\n",
    "sb_locs.rename(columns={'Postcode': 'AMOUNT'}, inplace=True)\n",
    "sb_locs.rename(columns={0: 'ZIPCODE'}, inplace=True)\n",
    "print(sb_locs.head(5))"
   ]
  },
  {
   "cell_type": "markdown",
   "metadata": {},
   "source": [
    "Then we merged the dataframe of Starbucks locations amounts with the dataframe of incomes, so that we had three columns: zipcode, amount of Starbucks locations in that zipcode, and the taxable income of that zipcode."
   ]
  },
  {
   "cell_type": "code",
   "execution_count": 7,
   "metadata": {
    "collapsed": false
   },
   "outputs": [
    {
     "name": "stdout",
     "output_type": "stream",
     "text": [
      "   ZIPCODE    income  AMOUNT\n",
      "0    35007  447297.0       3\n",
      "1    35022  343115.0       1\n",
      "2    35055  243148.0       1\n",
      "3    35068  109665.0       1\n",
      "4    35071  282756.0       1\n"
     ]
    }
   ],
   "source": [
    "new_df = pd.merge(inc_df, sb_locs, how='inner', on='ZIPCODE')\n",
    "print(new_df.head(5))"
   ]
  },
  {
   "cell_type": "markdown",
   "metadata": {},
   "source": [
    "We then attempted to normalize the data. We also took the natural log of the income in order to make it more left oriented rather than right oriented. In addition, it was an attempt to make the data less skewed. "
   ]
  },
  {
   "cell_type": "code",
   "execution_count": 8,
   "metadata": {
    "collapsed": false
   },
   "outputs": [],
   "source": [
    "new_df.income = np.log10(new_df.income)\n",
    "new_df['income']= (new_df['income']-new_df['income'].mean())/(new_df['income'].max()-new_df['income'].min())\n",
    "new_df['AMOUNT']= (new_df['AMOUNT']-new_df['AMOUNT'].mean())/(new_df['AMOUNT'].max()-new_df['AMOUNT'].min())"
   ]
  },
  {
   "cell_type": "markdown",
   "metadata": {
    "collapsed": true
   },
   "source": [
    "## Data Visualization\n"
   ]
  },
  {
   "cell_type": "markdown",
   "metadata": {
    "collapsed": true
   },
   "source": [
    "After cleaning the data, we will explore data visualization to understand our data better. We plot the data, using scatter_matrix with Pandas. We will call the variable \"scatter\"."
   ]
  },
  {
   "cell_type": "code",
   "execution_count": 9,
   "metadata": {
    "collapsed": false
   },
   "outputs": [
    {
     "data": {
      "text/plain": [
       "<matplotlib.figure.Figure at 0x1f284b2b080>"
      ]
     },
     "metadata": {},
     "output_type": "display_data"
    },
    {
     "data": {
      "image/png": "[encoded data removed]",
      "text/plain": [
       "<matplotlib.figure.Figure at 0x1f284b2b390>"
      ]
     },
     "metadata": {},
     "output_type": "display_data"
    }
   ],
   "source": [
    "plt.figure()\n",
    "scatter = pd.scatter_matrix(new_df)\n",
    "plt.show()\n"
   ]
  },
  {
   "cell_type": "markdown",
   "metadata": {},
   "source": [
    "Now we will make a more specific scatter plot with Income in a zip code area as our y-axis and the amount of Starbucks on the x-axis: We plot the data, using scatter_matrix with Pandas. We will call this new variable \"scatter2\"."
   ]
  },
  {
   "cell_type": "code",
   "execution_count": 10,
   "metadata": {
    "collapsed": false
   },
   "outputs": [
    {
     "data": {
      "image/png": "[encoded data removed]",
      "text/plain": [
       "<matplotlib.figure.Figure at 0x1f284ab0ba8>"
      ]
     },
     "metadata": {},
     "output_type": "display_data"
    }
   ],
   "source": [
    "plt.figure()\n",
    "scatter2 = plt.scatter(new_df.AMOUNT, new_df.income)\n",
    "plt.title('Income vs Location Amount')\n",
    "plt.xlabel('Amount of Locations')\n",
    "plt.ylabel('Income')\n",
    "plt.show()\n"
   ]
  },
  {
   "cell_type": "markdown",
   "metadata": {},
   "source": [
    "## Data Analysis and Results\n"
   ]
  },
  {
   "cell_type": "markdown",
   "metadata": {},
   "source": [
    "### Analysis"
   ]
  },
  {
   "cell_type": "markdown",
   "metadata": {},
   "source": [
    "We will analyze our data and continue to explore our hypothesis to see if there is a relationship between the income of a zipcode and the amount Starbucks in that zipcode. We plot the data, using \"scatter2\" with the line of best fit. "
   ]
  },
  {
   "cell_type": "code",
   "execution_count": 11,
   "metadata": {
    "collapsed": false
   },
   "outputs": [
    {
     "data": {
      "image/png": "[encoded data removed]",
      "text/plain": [
       "<matplotlib.figure.Figure at 0x1f284f69da0>"
      ]
     },
     "metadata": {},
     "output_type": "display_data"
    }
   ],
   "source": [
    "x = new_df.AMOUNT\n",
    "y = new_df.income\n",
    " \n",
    "m, b = np.polyfit(x, y, 1)\n",
    " \n",
    "plt.plot(x, y, '.')\n",
    "plt.plot(x, m*x + b, '-')\n",
    "plt.show()\n"
   ]
  },
  {
   "cell_type": "markdown",
   "metadata": {},
   "source": [
    "### Results"
   ]
  },
  {
   "cell_type": "markdown",
   "metadata": {},
   "source": [
    "Now proceed to using Ordinary Least Squares as we will make linear models. We create a linear model to use the toal location of Starbucks to predict inome (using df_new as data). From patsy we can design matrices and use that to create an OLS model. Then we will fit the model and then look at the results afterwards"
   ]
  },
  {
   "cell_type": "code",
   "execution_count": 12,
   "metadata": {
    "collapsed": false
   },
   "outputs": [],
   "source": [
    "outcome, predictors = patsy.dmatrices('income ~ AMOUNT', new_df)\n",
    "mod = sm.OLS(outcome, predictors)\n",
    "res = mod.fit()\n",
    "\n"
   ]
  },
  {
   "cell_type": "code",
   "execution_count": 13,
   "metadata": {
    "collapsed": false
   },
   "outputs": [
    {
     "name": "stdout",
     "output_type": "stream",
     "text": [
      "                            OLS Regression Results                            \n",
      "==============================================================================\n",
      "Dep. Variable:                 income   R-squared:                       0.119\n",
      "Model:                            OLS   Adj. R-squared:                  0.118\n",
      "Method:                 Least Squares   F-statistic:                     742.6\n",
      "Date:                Tue, 13 Jun 2017   Prob (F-statistic):          1.61e-153\n",
      "Time:                        16:34:59   Log-Likelihood:                 4649.6\n",
      "No. Observations:                5522   AIC:                            -9295.\n",
      "Df Residuals:                    5520   BIC:                            -9282.\n",
      "Df Model:                           1                                         \n",
      "Covariance Type:            nonrobust                                         \n",
      "==============================================================================\n",
      "                 coef    std err          t      P>|t|      [95.0% Conf. Int.]\n",
      "------------------------------------------------------------------------------\n",
      "Intercept   1.452e-15      0.001   1.03e-12      1.000        -0.003     0.003\n",
      "AMOUNT         0.6113      0.022     27.250      0.000         0.567     0.655\n",
      "==============================================================================\n",
      "Omnibus:                     1538.783   Durbin-Watson:                   1.564\n",
      "Prob(Omnibus):                  0.000   Jarque-Bera (JB):             5973.554\n",
      "Skew:                          -1.338   Prob(JB):                         0.00\n",
      "Kurtosis:                       7.336   Cond. No.                         16.0\n",
      "==============================================================================\n",
      "\n",
      "Warnings:\n",
      "[1] Standard Errors assume that the covariance matrix of the errors is correctly specified.\n"
     ]
    }
   ],
   "source": [
    "print(res.summary())"
   ]
  },
  {
   "cell_type": "markdown",
   "metadata": {},
   "source": [
    "Based on our model (with alpha value of 0.05), there is a positive correlation between the amount of Starbucks stores in a zip code and the income of that zip code.\n",
    "This will help us find if the p value signifies that the result is not due to chance. "
   ]
  },
  {
   "cell_type": "code",
   "execution_count": 14,
   "metadata": {
    "collapsed": false
   },
   "outputs": [
    {
     "name": "stdout",
     "output_type": "stream",
     "text": [
      "True\n"
     ]
    }
   ],
   "source": [
    "p=res.pvalues[1]\n",
    "\n",
    "if p < 0.05:\n",
    "    lm=True\n",
    "else:\n",
    "    lm=False\n",
    " \n",
    "print(lm)\n"
   ]
  },
  {
   "cell_type": "markdown",
   "metadata": {},
   "source": [
    "## Discussions and Conclusions"
   ]
  },
  {
   "cell_type": "markdown",
   "metadata": {},
   "source": [
    "### Conclusion"
   ]
  },
  {
   "cell_type": "markdown",
   "metadata": {
    "collapsed": true
   },
   "source": [
    "From running the OLS regression line, we have found that there is a positive correlation between income and Starbucks amount. This means that in general, as the income of a zipcode increases, the amount of Starbucks locations tends to increase as well.  Since we had a p value less than our alpha of .05, this means that there is a less than 5% chance that this result was just due to random chance. However, due to our positive correlation being weak, we cannot say that the income and amount of Starbucks predict each other. We can simply say that there is a general correlation between the two, not a causal relationship."
   ]
  },
  {
   "cell_type": "markdown",
   "metadata": {},
   "source": [
    "### Discussion"
   ]
  },
  {
   "cell_type": "markdown",
   "metadata": {},
   "source": [
    "Starbucks would be able to use these results to help them expand their business. Since there is a positive correlation between income and current locations, they could look to zipcodes where there are few locations and using these results determine if it would be feasible to add any more. If the current amount of locations seems to be below the average amount for other zipcodes with the same income, then they could reasonably add more locations. The correlation between income and amount of stores is not too strong and a possible explanation for this is that Starbucks is competing with other popular coffee chains such as Philz Coffee, which appeals to an even higher income crowd than that of Starbucks. This would mean that the higher income areas would have a conflicting variable in the case of this chain, as customers may be going to Philz instead of Starbucks for their coffee."
   ]
  }
 ],
 "metadata": {
  "kernelspec": {
   "display_name": "Python 3",
   "language": "python",
   "name": "python3"
  },
  "language_info": {
   "codemirror_mode": {
    "name": "ipython",
    "version": 3
   },
   "file_extension": ".py",
   "mimetype": "text/x-python",
   "name": "python",
   "nbconvert_exporter": "python",
   "pygments_lexer": "ipython3",
   "version": "3.6.0"
  }
 },
 "nbformat": 4,
 "nbformat_minor": 2
}
