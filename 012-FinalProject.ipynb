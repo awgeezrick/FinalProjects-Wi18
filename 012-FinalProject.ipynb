{
 "cells": [
  {
   "cell_type": "markdown",
   "metadata": {},
   "source": [
    "# DUI Crashes and Arrests in San Diego"
   ]
  },
  {
   "cell_type": "markdown",
   "metadata": {},
   "source": [
    "By Aaron Rothleder, Skyler Taylor, and Sarah George"
   ]
  },
  {
   "cell_type": "markdown",
   "metadata": {},
   "source": [
    "Research Question\n",
    "------------------\n",
    "We want to look into DUI related car crashes and arrests in the San Diego area. \n",
    "\n",
    "How do the proportions of arrests compare to the proportions of crashes in San Diego? Furthermore, how are the number of alcohol permits in a given location correlated with the number of arrests and the number of DUI related crashes?"
   ]
  },
  {
   "cell_type": "markdown",
   "metadata": {},
   "source": [
    "Hypothesis\n",
    "---------\n",
    "We hypothesize that San Diego will have roughly the same ratio of arrests and crashes, controlled for population."
   ]
  },
  {
   "cell_type": "markdown",
   "metadata": {},
   "source": [
    "Background Information\n",
    "----"
   ]
  },
  {
   "cell_type": "markdown",
   "metadata": {},
   "source": [
    "Analyzing DUI arrest and crash data is of interest because public safety is always a critical matter that should be monitored on a regular basis. Without strict monitoring of the improvement of DUI arrest rates over time, we cannot take action to improve the experience of San Diego citizens or tourists taking part in our city's night life. Background information included reports of arrest rates from prior years in the entire state (a DMV report that tracked changes in the arrest rate and alcohol related fatalities at https://www.dmv.ca.gov/portal/wcm/connect/77b8b0e3-c20b-42b0-8670-451d9c9262cd/S5-250.pdf?MOD=AJPERES) and articles about police officers setting up DUI checkpoints more often during holidays and other higher-risk times of year. \n",
    "    \n",
    "The DMV report we read included statewide DUI arrest rates up until 2013, and noted significant decreases in rates from 2011-2012 and 2012-2013. We have also seen reports of DUI checkpoint locations at https://www.dmv.ca.gov/portal/wcm/connect/77b8b0e3-c20b-42b0-8670-451d9c9262cd/S5-250.pdf?MOD=AJPERES, and we would like to see if we could extend this downward trend in San Diego by identifying hotspots where crashes and accidents occur, that would be good locations for additional DUI checkpoints to prevent fatalities on the road.\n",
    "    \n",
    "    \n",
    "Referencess:\n",
    "- 1) https://www.dmv.ca.gov/portal/wcm/connect/ea06d0a4-a73f-4b2d-b6f1-257029275629/S5-246.pdf?MOD=AJPERES&CONVERT_TO=url&CACHEID=ea06d0a4-a73f-4b2d-b6f1-257029275629\n",
    "- 2)https://www.dmv.ca.gov/portal/wcm/connect/77b8b0e3-c20b-42b0-8670-451d9c9262cd/S5-250.pdf?MOD=AJPERES"
   ]
  },
  {
   "cell_type": "markdown",
   "metadata": {},
   "source": [
    "# Data Description"
   ]
  },
  {
   "cell_type": "markdown",
   "metadata": {},
   "source": [
    "Dataset 1: Incidents-100k\n",
    "- Link to the dataset: http://data.sandiegodata.org/de/dataset/clarinova_com-crime-incidents-casnd-7ba4-extract\n",
    "- Number of observations: 100,000 \n",
    "- Description: This data set shows all the police incidents in the San Diego area from 2007-2013. It conatins type of incident, date, and location. We will use this data to identify number of DUI arrests in the San Diego area.\n",
    "\n",
    "Dataset 2: abs-license-casnd\n",
    "- Link to the dataset: http://data.sandiegodata.org/de/dataset?organization=san-diego-regional-data-library&groups=crime&res_format%3Dhtml=\n",
    "- Number of observations: 5,000\n",
    "- Description: This data set shows all the places in the San Diego area that have permits to sell alcohol. It has location through address which will be used to get a Lon/Lat coordinate. It also has expiration dates so we would filter for permits that are valid in the year we are studying. This data can be used to find hot spots of alcohol consumption in the San Diego.\n",
    "\n",
    "Dataset 3: pd_collisions_datasd\n",
    "- Link to the dataset: https://data.sandiego.gov/datasets/police-collisions/\n",
    "- Number of observations: 25,000\n",
    "- Description: This data contains information on all the collisions in the San Diego area in 2015-2017. It contains location street number and name. We will use this to get long/lat information. It also has charge description data which shows if a DUI was involved in the crash. This data will be used to get number of crashes due to DUI for a certain area.\n",
    "\n",
    "Dataset 4: ARJIS_PublicCrime060717\n",
    "- Link to the dataset: http://www.sandag.org/index.asp?classid=14&subclassid=21&projectid=446&fuseaction=projects.detail\n",
    "- Number of observations: 59,000\n",
    "- Description: This dataset contains the last 180 days of public crime incidents in San Diego. It contains the past 180 days of crime data until our download date on June 7th, 2017. This includes a block address where the incident occurred, a charge description, activity date, the arresting party, zip code, and neighborhood.\n",
    "- This data will be filtered down to only DUI related crime incidents and will be used to find specific locations through geocoding the street addresses where DUI arrests occur.\n",
    "\n",
    "Dataset 5: Zip_Coords\n",
    "- Link to the dataset: http://federalgovernmentzipcodes.us/\n",
    "- Number of observations: 150\n",
    "- Description: A csv of zip codes and their corresponding latitude and longitude coordinates filtered down from a comprehensive list of zip codes and their coordinates in the US. \n",
    "- This data will be used to mark population densities in our grid representing San Diego, so that we can control for population when calculating crash and arrest rates.\n",
    "\n",
    "Dataset 6: ZipCode_Populations\n",
    "- Link to the dataset: https://catalog.data.gov/dataset/zip-code-data\n",
    "- Number of observations: 861\n",
    "- Description: A list of San Diego zip codes with demographic information that separates population counts for each zip by race. We will have to sum over all races to get a sum for each zip that we will then use together with the Zip_Coords file to create population densities on our latitude/longitude grid."
   ]
  },
  {
   "cell_type": "markdown",
   "metadata": {},
   "source": [
    "# Data Cleaning and Preprocessing"
   ]
  },
  {
   "cell_type": "code",
   "execution_count": 2,
   "metadata": {
    "collapsed": true
   },
   "outputs": [],
   "source": [
    "# Import pandas, numpy, matplotlib\n",
    "import pandas as pd\n",
    "import numpy as np\n",
    "import matplotlib as mp\n",
    "import matplotlib.patches as mpatches\n",
    "import matplotlib.pyplot as plt\n",
    "from matplotlib.font_manager import FontProperties\n",
    "from pygeocoder import Geocoder\n",
    "from geopy.geocoders import Nominatim\n",
    "from geopy.distance import vincenty\n",
    "import moment"
   ]
  },
  {
   "cell_type": "markdown",
   "metadata": {
    "collapsed": true
   },
   "source": [
    "# Cleaning DUI Arrests Data (2007-2013)\n",
    "\n",
    "The datafile 'incidents-100k.csv'shows all the police incidents in the San Diego area from 2007-2013. It conatins type of incident, date, and location. We will use this data to identify number of DUI arrests in the San Diego area.\n",
    "\n",
    "link:\n",
    "http://data.sandiegodata.org/de/dataset/clarinova_com-crime-incidents-casnd-7ba4-extract"
   ]
  },
  {
   "cell_type": "code",
   "execution_count": 3,
   "metadata": {
    "collapsed": false
   },
   "outputs": [
    {
     "data": {
      "text/html": [
       "<div>\n",
       "<table border=\"1\" class=\"dataframe\">\n",
       "  <thead>\n",
       "    <tr style=\"text-align: right;\">\n",
       "      <th></th>\n",
       "      <th>agency</th>\n",
       "      <th>Charge_Description_Orig</th>\n",
       "      <th>activityDate</th>\n",
       "      <th>BLOCK_ADDRESS</th>\n",
       "      <th>ZipCode</th>\n",
       "      <th>community</th>\n",
       "    </tr>\n",
       "  </thead>\n",
       "  <tbody>\n",
       "    <tr>\n",
       "      <th>0</th>\n",
       "      <td>SHERIFF</td>\n",
       "      <td>290 VIOLATION AFTER INCARCERATION (F)</td>\n",
       "      <td>2/13/17 17:00</td>\n",
       "      <td>9400  BLOCK CHESAPEAKE DRIVE</td>\n",
       "      <td>92123.0</td>\n",
       "      <td>SAN DIEGO</td>\n",
       "    </tr>\n",
       "    <tr>\n",
       "      <th>1</th>\n",
       "      <td>SHERIFF</td>\n",
       "      <td>290 VIOLATION AFTER INCARCERATION (F)</td>\n",
       "      <td>1/2/17 17:00</td>\n",
       "      <td>9600  BLOCK CHESAPEAKE DRIVE</td>\n",
       "      <td>92123.0</td>\n",
       "      <td>SAN DIEGO</td>\n",
       "    </tr>\n",
       "    <tr>\n",
       "      <th>2</th>\n",
       "      <td>SHERIFF</td>\n",
       "      <td>290 VIOLATION AFTER INCARCERATION (F)</td>\n",
       "      <td>12/9/16 17:00</td>\n",
       "      <td>9600  BLOCK CHESAPEAKE DRIVE</td>\n",
       "      <td>92123.0</td>\n",
       "      <td>SAN DIEGO</td>\n",
       "    </tr>\n",
       "    <tr>\n",
       "      <th>3</th>\n",
       "      <td>SHERIFF</td>\n",
       "      <td>290 VIOLATION AFTER INCARCERATION (F)</td>\n",
       "      <td>12/14/16 17:00</td>\n",
       "      <td>0  BLOCK UNKNOWN</td>\n",
       "      <td>92020.0</td>\n",
       "      <td>EL CAJON</td>\n",
       "    </tr>\n",
       "    <tr>\n",
       "      <th>4</th>\n",
       "      <td>SHERIFF</td>\n",
       "      <td>290 VIOLATION AFTER INCARCERATION (F)</td>\n",
       "      <td>3/28/17 17:00</td>\n",
       "      <td>9400  BLOCK CHESAPEAKE DRIVE</td>\n",
       "      <td>92123.0</td>\n",
       "      <td>SAN DIEGO</td>\n",
       "    </tr>\n",
       "  </tbody>\n",
       "</table>\n",
       "</div>"
      ],
      "text/plain": [
       "    agency                Charge_Description_Orig    activityDate  \\\n",
       "0  SHERIFF  290 VIOLATION AFTER INCARCERATION (F)   2/13/17 17:00   \n",
       "1  SHERIFF  290 VIOLATION AFTER INCARCERATION (F)    1/2/17 17:00   \n",
       "2  SHERIFF  290 VIOLATION AFTER INCARCERATION (F)   12/9/16 17:00   \n",
       "3  SHERIFF  290 VIOLATION AFTER INCARCERATION (F)  12/14/16 17:00   \n",
       "4  SHERIFF  290 VIOLATION AFTER INCARCERATION (F)   3/28/17 17:00   \n",
       "\n",
       "                  BLOCK_ADDRESS  ZipCode  community  \n",
       "0  9400  BLOCK CHESAPEAKE DRIVE  92123.0  SAN DIEGO  \n",
       "1  9600  BLOCK CHESAPEAKE DRIVE  92123.0  SAN DIEGO  \n",
       "2  9600  BLOCK CHESAPEAKE DRIVE  92123.0  SAN DIEGO  \n",
       "3              0  BLOCK UNKNOWN  92020.0   EL CAJON  \n",
       "4  9400  BLOCK CHESAPEAKE DRIVE  92123.0  SAN DIEGO  "
      ]
     },
     "execution_count": 3,
     "metadata": {},
     "output_type": "execute_result"
    }
   ],
   "source": [
    "# Pull the comprehensive police reported incidents file, dated from 2007 to 2013.\n",
    "incidents_180 = pd.read_csv('arrests_180_days.csv')\n",
    "incidents_180.dropna(inplace=True)\n",
    "incidents_180.head(5)"
   ]
  },
  {
   "cell_type": "code",
   "execution_count": 4,
   "metadata": {
    "collapsed": false
   },
   "outputs": [
    {
     "data": {
      "text/html": [
       "<div>\n",
       "<table border=\"1\" class=\"dataframe\">\n",
       "  <thead>\n",
       "    <tr style=\"text-align: right;\">\n",
       "      <th></th>\n",
       "      <th>agency</th>\n",
       "      <th>Charge_Description_Orig</th>\n",
       "      <th>activityDate</th>\n",
       "      <th>BLOCK_ADDRESS</th>\n",
       "      <th>ZipCode</th>\n",
       "      <th>community</th>\n",
       "    </tr>\n",
       "  </thead>\n",
       "  <tbody>\n",
       "    <tr>\n",
       "      <th>15932</th>\n",
       "      <td>EL CAJON</td>\n",
       "      <td>DRIVING UNDER INFLUENCE WITHIN 10 YEARS OF PRI...</td>\n",
       "      <td>5/12/17 1:39</td>\n",
       "      <td>700 S  BLOCK MAGNOLIA AVENUE</td>\n",
       "      <td>92020.0</td>\n",
       "      <td>EL CAJON</td>\n",
       "    </tr>\n",
       "    <tr>\n",
       "      <th>15933</th>\n",
       "      <td>CHULA VISTA</td>\n",
       "      <td>DRIVING UNDER INFLUENCE WITHIN 10 YEARS OF PRI...</td>\n",
       "      <td>3/10/17 0:09</td>\n",
       "      <td>EVANS AVENUE / E L STREET</td>\n",
       "      <td>91911.0</td>\n",
       "      <td>CHULA VISTA</td>\n",
       "    </tr>\n",
       "    <tr>\n",
       "      <th>15935</th>\n",
       "      <td>SHERIFF</td>\n",
       "      <td>DRIVING UNDER INFLUENCE WITHIN 10 YEARS OF PRI...</td>\n",
       "      <td>2/3/17 22:25</td>\n",
       "      <td>400  BLOCK ALMOND ROAD</td>\n",
       "      <td>92078.0</td>\n",
       "      <td>SAN MARCOS</td>\n",
       "    </tr>\n",
       "    <tr>\n",
       "      <th>18415</th>\n",
       "      <td>EL CAJON</td>\n",
       "      <td>DUI .08 ALC:CAUSING BODILY INJ (F)</td>\n",
       "      <td>3/24/17 20:20</td>\n",
       "      <td>N 03RD STREET / E MAIN STREET</td>\n",
       "      <td>92020.0</td>\n",
       "      <td>EL CAJON</td>\n",
       "    </tr>\n",
       "    <tr>\n",
       "      <th>18416</th>\n",
       "      <td>OCEANSIDE</td>\n",
       "      <td>DUI .08 ALC:CAUSING BODILY INJ (F)</td>\n",
       "      <td>12/22/16 21:28</td>\n",
       "      <td>4000  BLOCK VISTA WAY</td>\n",
       "      <td>92056.0</td>\n",
       "      <td>OCEANSIDE</td>\n",
       "    </tr>\n",
       "  </tbody>\n",
       "</table>\n",
       "</div>"
      ],
      "text/plain": [
       "            agency                            Charge_Description_Orig  \\\n",
       "15932     EL CAJON  DRIVING UNDER INFLUENCE WITHIN 10 YEARS OF PRI...   \n",
       "15933  CHULA VISTA  DRIVING UNDER INFLUENCE WITHIN 10 YEARS OF PRI...   \n",
       "15935      SHERIFF  DRIVING UNDER INFLUENCE WITHIN 10 YEARS OF PRI...   \n",
       "18415     EL CAJON                 DUI .08 ALC:CAUSING BODILY INJ (F)   \n",
       "18416    OCEANSIDE                 DUI .08 ALC:CAUSING BODILY INJ (F)   \n",
       "\n",
       "         activityDate                  BLOCK_ADDRESS  ZipCode    community  \n",
       "15932    5/12/17 1:39   700 S  BLOCK MAGNOLIA AVENUE  92020.0     EL CAJON  \n",
       "15933    3/10/17 0:09      EVANS AVENUE / E L STREET  91911.0  CHULA VISTA  \n",
       "15935    2/3/17 22:25         400  BLOCK ALMOND ROAD  92078.0   SAN MARCOS  \n",
       "18415   3/24/17 20:20  N 03RD STREET / E MAIN STREET  92020.0     EL CAJON  \n",
       "18416  12/22/16 21:28          4000  BLOCK VISTA WAY  92056.0    OCEANSIDE  "
      ]
     },
     "execution_count": 4,
     "metadata": {},
     "output_type": "execute_result"
    }
   ],
   "source": [
    "# Filter dataframe down to info on just DUI incidents\n",
    "dui_incidents_180 = incidents_180[incidents_180['Charge_Description_Orig'].str.contains(\"DUI\")]\n",
    "dui_incidents_180.head(5)\n"
   ]
  },
  {
   "cell_type": "markdown",
   "metadata": {},
   "source": [
    "Geocoding\n",
    "----\n",
    "First, we will need to geocode the addresses of our DUI incidents (arrest data) and our DUI crash data to extract latitude and longitude coordinates from street addresses. Please note that we have not executed the cell below since we will reach the geocode query limit if we do, but we have written the results to file from a previous run-through."
   ]
  },
  {
   "cell_type": "code",
   "execution_count": 5,
   "metadata": {
    "collapsed": false
   },
   "outputs": [
    {
     "data": {
      "text/plain": [
       "'\\nSave new dataframe in file \"coordinate_crashes.csv\"\\ndui_crashes15_17[\\'coordinates\\'] = s.to_frame()\\nnew_crashes.to_csv(\\'coordinate_crashes.csv\\', sep=\\',\\')\\ncrashes = pd.read_csv(\\'coordinate_crashes.csv\\')\\ndui_incidents_180[\\'coordinates\\'] = s1.to_frame()\\ndui_incidents_180[\\'coordinates\\'].to_csv(\"dui_incidents_180.csv\",sep=\\',\\')\\n'"
      ]
     },
     "execution_count": 5,
     "metadata": {},
     "output_type": "execute_result"
    }
   ],
   "source": [
    "#Next we should use geocoding to get lon/lat of the addresses\n",
    "# First, geocode the 'address' column of our DUI Crash file and save in a series called 's'.\n",
    "# We will then convert this series to a dataframe and write to a file called \n",
    "# 'coordinate_crashes.csv'\n",
    "\n",
    "\"\"\"for i in range(0, len(dui_crashes15_17)): \n",
    "    while(True):\n",
    "        try:\n",
    "            x,y = Geocoder.geocode(dui_crashes15_17.iloc[i]['address']).coordinates\n",
    "            s[i] = (x,y)\n",
    "        except:\n",
    "            time.sleep(5)\n",
    "            continue\n",
    "        break\n",
    "        \n",
    "# Similarly, geocode the 'Block Addresses' in the DUI Arrests file and write to csv.\n",
    "# The coordinate data will then be available in the file 'dui_incidents_180.csv'\n",
    "\n",
    "for i in range(0,len(dui_incidents_180)):\n",
    "    while(True):\n",
    "        try:\n",
    "            x,y = Geocoder.geocode(dui_incidents_180.iloc[i]['BLOCK_ADDRESS']).coordinates\n",
    "            s1[i] = (x,y)\n",
    "            s1.to_csv(\"dui_incidents_180.csv\")\n",
    "        except:\n",
    "            time.sleep(5)\n",
    "            continue\n",
    "        break\n",
    "\"\"\"\n",
    "\n",
    "# Write the coordinates of our crash data to one file, and the coordinates of our\n",
    "# dui incidents to another.\n",
    "\"\"\"\n",
    "Save new dataframe in file \"coordinate_crashes.csv\"\n",
    "dui_crashes15_17['coordinates'] = s.to_frame()\n",
    "new_crashes.to_csv('coordinate_crashes.csv', sep=',')\n",
    "crashes = pd.read_csv('coordinate_crashes.csv')\n",
    "dui_incidents_180['coordinates'] = s1.to_frame()\n",
    "dui_incidents_180['coordinates'].to_csv(\"dui_incidents_180.csv\",sep=',')\n",
    "\"\"\"\n"
   ]
  },
  {
   "cell_type": "code",
   "execution_count": 6,
   "metadata": {
    "collapsed": false
   },
   "outputs": [
    {
     "data": {
      "text/html": [
       "<div>\n",
       "<table border=\"1\" class=\"dataframe\">\n",
       "  <thead>\n",
       "    <tr style=\"text-align: right;\">\n",
       "      <th></th>\n",
       "      <th>Zip</th>\n",
       "      <th>YEAR</th>\n",
       "      <th>RACE</th>\n",
       "      <th>NUMBER</th>\n",
       "    </tr>\n",
       "  </thead>\n",
       "  <tbody>\n",
       "    <tr>\n",
       "      <th>0</th>\n",
       "      <td>91901</td>\n",
       "      <td>2010</td>\n",
       "      <td>Pacific Islander</td>\n",
       "      <td>43</td>\n",
       "    </tr>\n",
       "    <tr>\n",
       "      <th>1</th>\n",
       "      <td>91901</td>\n",
       "      <td>2010</td>\n",
       "      <td>White</td>\n",
       "      <td>13131</td>\n",
       "    </tr>\n",
       "    <tr>\n",
       "      <th>2</th>\n",
       "      <td>91901</td>\n",
       "      <td>2010</td>\n",
       "      <td>Black</td>\n",
       "      <td>201</td>\n",
       "    </tr>\n",
       "    <tr>\n",
       "      <th>3</th>\n",
       "      <td>91901</td>\n",
       "      <td>2010</td>\n",
       "      <td>Other</td>\n",
       "      <td>9</td>\n",
       "    </tr>\n",
       "    <tr>\n",
       "      <th>4</th>\n",
       "      <td>91901</td>\n",
       "      <td>2010</td>\n",
       "      <td>Two or More</td>\n",
       "      <td>375</td>\n",
       "    </tr>\n",
       "  </tbody>\n",
       "</table>\n",
       "</div>"
      ],
      "text/plain": [
       "     Zip  YEAR              RACE  NUMBER\n",
       "0  91901  2010  Pacific Islander      43\n",
       "1  91901  2010             White   13131\n",
       "2  91901  2010             Black     201\n",
       "3  91901  2010             Other       9\n",
       "4  91901  2010       Two or More     375"
      ]
     },
     "execution_count": 6,
     "metadata": {},
     "output_type": "execute_result"
    }
   ],
   "source": [
    "# Read in our zip code csv with population counts\n",
    "zip_code_df = pd.read_csv('ZipCode_Populations.csv')\n",
    "zip_code_df.head(5)"
   ]
  },
  {
   "cell_type": "code",
   "execution_count": 7,
   "metadata": {
    "collapsed": true
   },
   "outputs": [],
   "source": [
    "# Since our population counts are separated by race, lets sum over unique zip codes and \n",
    "# accumulate a summed population for each zip."
   ]
  },
  {
   "cell_type": "code",
   "execution_count": 8,
   "metadata": {
    "collapsed": true
   },
   "outputs": [],
   "source": [
    "curr_zip = zip_code_df['Zip'][0]\n",
    "\n",
    "sums = {}\n",
    "temp_sum = 0\n",
    "\n",
    "for i in range(0,len(zip_code_df)):    \n",
    "    if curr_zip != zip_code_df.iloc[i]['Zip']:\n",
    "        sums[curr_zip] = temp_sum\n",
    "        curr_zip = zip_code_df.iloc[i]['Zip']\n",
    "        temp_sum = zip_code_df.iloc[i]['NUMBER']\n",
    "    else:\n",
    "        temp_sum += zip_code_df.iloc[i]['NUMBER']"
   ]
  },
  {
   "cell_type": "code",
   "execution_count": 9,
   "metadata": {
    "collapsed": false
   },
   "outputs": [
    {
     "name": "stdout",
     "output_type": "stream",
     "text": [
      "{91901: 17084, 91902: 17005, 91905: 1669, 91906: 5765, 91910: 76153, 91911: 83249, 91913: 40346, 91914: 15627, 91915: 25126, 91916: 2006, 91917: 2276, 91931: 350, 91932: 26325, 91934: 775, 91935: 8235, 91941: 33302, 91942: 36886, 91945: 25320, 91948: 340, 91950: 55312, 91962: 1698, 91963: 1162, 91977: 59164, 91978: 7956, 91980: 173, 92003: 4354, 92004: 4054, 92007: 10531, 92008: 27568, 92009: 39735, 92010: 14481, 92011: 22393, 92014: 13432, 92019: 42637, 92020: 58407, 92021: 65227, 92024: 52579, 92025: 48275, 92026: 52417, 92027: 53143, 92028: 46449, 92029: 18624, 92036: 3573, 92037: 38652, 92040: 40286, 92054: 37941, 92055: 33412, 92056: 51590, 92057: 54152, 92058: 23406, 92059: 1498, 92060: 778, 92061: 2855, 92064: 47904, 92065: 35365, 92066: 430, 92067: 8689, 92069: 46322, 92070: 697, 92071: 53211, 92075: 11854, 92078: 39983, 92081: 27422, 92082: 17896, 92083: 37082, 92084: 47861, 92086: 1131, 92091: 1621, 92093: 8718, 92096: 622, 92101: 35623, 92102: 42967, 92103: 30680, 92104: 44947, 92105: 70270, 92106: 21847, 92107: 26929, 92108: 18191, 92109: 45802, 92110: 23852, 92111: 47870, 92113: 51210, 92114: 65433, 92115: 56694, 92116: 31439, 92117: 50617, 92118: 17041, 92119: 23039, 92120: 26185, 92121: 4253, 92122: 43382, 92123: 26343, 92124: 30332, 92126: 73037, 92127: 39272, 92128: 47393, 92129: 51208, 92130: 49716, 92131: 34326, 92134: 155, 92135: 6520, 92136: 11549, 92139: 35082, 92140: 3435, 92145: 2, 92154: 79233, 92155: 1135, 92173: 29318, 92182: 2020, 92536: 365}\n"
     ]
    }
   ],
   "source": [
    "print(sums)"
   ]
  },
  {
   "cell_type": "code",
   "execution_count": 10,
   "metadata": {
    "collapsed": false
   },
   "outputs": [
    {
     "data": {
      "text/html": [
       "<div>\n",
       "<table border=\"1\" class=\"dataframe\">\n",
       "  <thead>\n",
       "    <tr style=\"text-align: right;\">\n",
       "      <th></th>\n",
       "      <th>Zip Code</th>\n",
       "      <th>Lat</th>\n",
       "      <th>Lon</th>\n",
       "    </tr>\n",
       "  </thead>\n",
       "  <tbody>\n",
       "    <tr>\n",
       "      <th>0</th>\n",
       "      <td>92101</td>\n",
       "      <td>32.71</td>\n",
       "      <td>-117.16</td>\n",
       "    </tr>\n",
       "    <tr>\n",
       "      <th>1</th>\n",
       "      <td>92102</td>\n",
       "      <td>32.72</td>\n",
       "      <td>-117.09</td>\n",
       "    </tr>\n",
       "    <tr>\n",
       "      <th>2</th>\n",
       "      <td>92103</td>\n",
       "      <td>32.74</td>\n",
       "      <td>-117.17</td>\n",
       "    </tr>\n",
       "    <tr>\n",
       "      <th>3</th>\n",
       "      <td>92104</td>\n",
       "      <td>32.73</td>\n",
       "      <td>-117.12</td>\n",
       "    </tr>\n",
       "    <tr>\n",
       "      <th>4</th>\n",
       "      <td>92105</td>\n",
       "      <td>32.73</td>\n",
       "      <td>-117.08</td>\n",
       "    </tr>\n",
       "    <tr>\n",
       "      <th>5</th>\n",
       "      <td>92106</td>\n",
       "      <td>32.72</td>\n",
       "      <td>-117.23</td>\n",
       "    </tr>\n",
       "    <tr>\n",
       "      <th>6</th>\n",
       "      <td>92107</td>\n",
       "      <td>32.73</td>\n",
       "      <td>-117.24</td>\n",
       "    </tr>\n",
       "    <tr>\n",
       "      <th>7</th>\n",
       "      <td>92107</td>\n",
       "      <td>32.73</td>\n",
       "      <td>-117.24</td>\n",
       "    </tr>\n",
       "    <tr>\n",
       "      <th>8</th>\n",
       "      <td>92108</td>\n",
       "      <td>32.77</td>\n",
       "      <td>-117.10</td>\n",
       "    </tr>\n",
       "    <tr>\n",
       "      <th>9</th>\n",
       "      <td>92109</td>\n",
       "      <td>32.79</td>\n",
       "      <td>-117.23</td>\n",
       "    </tr>\n",
       "  </tbody>\n",
       "</table>\n",
       "</div>"
      ],
      "text/plain": [
       "   Zip Code    Lat     Lon\n",
       "0     92101  32.71 -117.16\n",
       "1     92102  32.72 -117.09\n",
       "2     92103  32.74 -117.17\n",
       "3     92104  32.73 -117.12\n",
       "4     92105  32.73 -117.08\n",
       "5     92106  32.72 -117.23\n",
       "6     92107  32.73 -117.24\n",
       "7     92107  32.73 -117.24\n",
       "8     92108  32.77 -117.10\n",
       "9     92109  32.79 -117.23"
      ]
     },
     "execution_count": 10,
     "metadata": {},
     "output_type": "execute_result"
    }
   ],
   "source": [
    "# Read in our zip code csv that contains latitude and longitude coordinates. We want to link\n",
    "# this information to our other zip code data with population counts.\n",
    "\n",
    "df_zip_coords = pd.read_csv('Zip_Coords.csv')\n",
    "\n",
    "# Drop unnecessary columns from data, such as Status, City, and State, since we already \n",
    "# know our zip code values are San Diego specific.\n",
    "df_zip_coords.drop(['Idk', 'City', 'State', 'Status'], axis=1, inplace=True)\n",
    "df_zip_coords.head(10)"
   ]
  },
  {
   "cell_type": "code",
   "execution_count": 11,
   "metadata": {
    "collapsed": false
   },
   "outputs": [
    {
     "name": "stderr",
     "output_type": "stream",
     "text": [
      "/Users/sarahgeorge/anaconda/envs/py36/lib/python3.6/site-packages/ipykernel/__main__.py:4: SettingWithCopyWarning: \n",
      "A value is trying to be set on a copy of a slice from a DataFrame\n",
      "\n",
      "See the caveats in the documentation: http://pandas.pydata.org/pandas-docs/stable/indexing.html#indexing-view-versus-copy\n"
     ]
    },
    {
     "data": {
      "text/html": [
       "<div>\n",
       "<table border=\"1\" class=\"dataframe\">\n",
       "  <thead>\n",
       "    <tr style=\"text-align: right;\">\n",
       "      <th></th>\n",
       "      <th>Zip Code</th>\n",
       "      <th>Lat</th>\n",
       "      <th>Lon</th>\n",
       "    </tr>\n",
       "  </thead>\n",
       "  <tbody>\n",
       "    <tr>\n",
       "      <th>0</th>\n",
       "      <td>92101</td>\n",
       "      <td>32.71</td>\n",
       "      <td>-117.16</td>\n",
       "    </tr>\n",
       "    <tr>\n",
       "      <th>1</th>\n",
       "      <td>92102</td>\n",
       "      <td>32.72</td>\n",
       "      <td>-117.09</td>\n",
       "    </tr>\n",
       "    <tr>\n",
       "      <th>2</th>\n",
       "      <td>92103</td>\n",
       "      <td>32.74</td>\n",
       "      <td>-117.17</td>\n",
       "    </tr>\n",
       "    <tr>\n",
       "      <th>3</th>\n",
       "      <td>92104</td>\n",
       "      <td>32.73</td>\n",
       "      <td>-117.12</td>\n",
       "    </tr>\n",
       "    <tr>\n",
       "      <th>4</th>\n",
       "      <td>92105</td>\n",
       "      <td>32.73</td>\n",
       "      <td>-117.08</td>\n",
       "    </tr>\n",
       "    <tr>\n",
       "      <th>5</th>\n",
       "      <td>92106</td>\n",
       "      <td>32.72</td>\n",
       "      <td>-117.23</td>\n",
       "    </tr>\n",
       "    <tr>\n",
       "      <th>6</th>\n",
       "      <td>92107</td>\n",
       "      <td>32.73</td>\n",
       "      <td>-117.24</td>\n",
       "    </tr>\n",
       "    <tr>\n",
       "      <th>7</th>\n",
       "      <td>92107</td>\n",
       "      <td>32.73</td>\n",
       "      <td>-117.24</td>\n",
       "    </tr>\n",
       "    <tr>\n",
       "      <th>8</th>\n",
       "      <td>92108</td>\n",
       "      <td>32.77</td>\n",
       "      <td>-117.10</td>\n",
       "    </tr>\n",
       "    <tr>\n",
       "      <th>9</th>\n",
       "      <td>92109</td>\n",
       "      <td>32.79</td>\n",
       "      <td>-117.23</td>\n",
       "    </tr>\n",
       "  </tbody>\n",
       "</table>\n",
       "</div>"
      ],
      "text/plain": [
       "   Zip Code    Lat     Lon\n",
       "0     92101  32.71 -117.16\n",
       "1     92102  32.72 -117.09\n",
       "2     92103  32.74 -117.17\n",
       "3     92104  32.73 -117.12\n",
       "4     92105  32.73 -117.08\n",
       "5     92106  32.72 -117.23\n",
       "6     92107  32.73 -117.24\n",
       "7     92107  32.73 -117.24\n",
       "8     92108  32.77 -117.10\n",
       "9     92109  32.79 -117.23"
      ]
     },
     "execution_count": 11,
     "metadata": {},
     "output_type": "execute_result"
    }
   ],
   "source": [
    "# Convert our zip codes to string so that we can compare them to the xip codes in our\n",
    "# population dataframe.\n",
    "for i in range(0, len(df_zip_coords)):\n",
    "    df_zip_coords.iloc[i]['Zip Code'] = str(df_zip_coords.iloc[i]['Zip Code'])\n",
    "\n",
    "df_zip_coords.head(10)"
   ]
  },
  {
   "cell_type": "code",
   "execution_count": 12,
   "metadata": {
    "collapsed": false
   },
   "outputs": [],
   "source": [
    "# Convert our summed population counts to string\n",
    "for i in sums:\n",
    "    sums[i] = str(sums[i])\n",
    "    \n",
    "# Create a dataframe from our dictionary of population sums called 'df_zip_pops'.\n",
    "df_zip_pops = pd.DataFrame.from_dict(sums, orient='index').reset_index()\n",
    "df_zip_pops.rename(columns = {'index':'Zip Code', 0:'Population'}, inplace=True)"
   ]
  },
  {
   "cell_type": "code",
   "execution_count": 13,
   "metadata": {
    "collapsed": false
   },
   "outputs": [
    {
     "name": "stdout",
     "output_type": "stream",
     "text": [
      "Length:  110\n"
     ]
    },
    {
     "data": {
      "text/html": [
       "<div>\n",
       "<table border=\"1\" class=\"dataframe\">\n",
       "  <thead>\n",
       "    <tr style=\"text-align: right;\">\n",
       "      <th></th>\n",
       "      <th>Zip Code</th>\n",
       "      <th>Population</th>\n",
       "    </tr>\n",
       "  </thead>\n",
       "  <tbody>\n",
       "    <tr>\n",
       "      <th>0</th>\n",
       "      <td>91901</td>\n",
       "      <td>17084</td>\n",
       "    </tr>\n",
       "    <tr>\n",
       "      <th>1</th>\n",
       "      <td>91902</td>\n",
       "      <td>17005</td>\n",
       "    </tr>\n",
       "    <tr>\n",
       "      <th>2</th>\n",
       "      <td>91905</td>\n",
       "      <td>1669</td>\n",
       "    </tr>\n",
       "    <tr>\n",
       "      <th>3</th>\n",
       "      <td>91906</td>\n",
       "      <td>5765</td>\n",
       "    </tr>\n",
       "    <tr>\n",
       "      <th>4</th>\n",
       "      <td>91910</td>\n",
       "      <td>76153</td>\n",
       "    </tr>\n",
       "    <tr>\n",
       "      <th>5</th>\n",
       "      <td>91911</td>\n",
       "      <td>83249</td>\n",
       "    </tr>\n",
       "    <tr>\n",
       "      <th>6</th>\n",
       "      <td>91913</td>\n",
       "      <td>40346</td>\n",
       "    </tr>\n",
       "    <tr>\n",
       "      <th>7</th>\n",
       "      <td>91914</td>\n",
       "      <td>15627</td>\n",
       "    </tr>\n",
       "    <tr>\n",
       "      <th>8</th>\n",
       "      <td>91915</td>\n",
       "      <td>25126</td>\n",
       "    </tr>\n",
       "    <tr>\n",
       "      <th>9</th>\n",
       "      <td>91916</td>\n",
       "      <td>2006</td>\n",
       "    </tr>\n",
       "  </tbody>\n",
       "</table>\n",
       "</div>"
      ],
      "text/plain": [
       "   Zip Code Population\n",
       "0     91901      17084\n",
       "1     91902      17005\n",
       "2     91905       1669\n",
       "3     91906       5765\n",
       "4     91910      76153\n",
       "5     91911      83249\n",
       "6     91913      40346\n",
       "7     91914      15627\n",
       "8     91915      25126\n",
       "9     91916       2006"
      ]
     },
     "execution_count": 13,
     "metadata": {},
     "output_type": "execute_result"
    }
   ],
   "source": [
    "# Let's look at our new dataframe.\n",
    "print(\"Length: \", len(df_zip_pops))\n",
    "df_zip_pops.head(10)\n"
   ]
  },
  {
   "cell_type": "code",
   "execution_count": 14,
   "metadata": {
    "collapsed": false
   },
   "outputs": [
    {
     "name": "stdout",
     "output_type": "stream",
     "text": [
      "Length:  39\n"
     ]
    }
   ],
   "source": [
    "# Merge our first dataset with zipcode coordinates with our second dataset with zipcode\n",
    "# populations.\n",
    "merged_zips = pd.merge(df_zip_coords, df_zip_pops, on='Zip Code')\n",
    "merged_zips = merged_zips.drop_duplicates()\n",
    "print(\"Length: \", len(merged_zips))\n",
    "\n",
    "# Fix any odd indexing that occurs after dropping rows\n",
    "merged_zips = merged_zips.reset_index(drop=True)"
   ]
  },
  {
   "cell_type": "code",
   "execution_count": 15,
   "metadata": {
    "collapsed": false
   },
   "outputs": [
    {
     "data": {
      "text/html": [
       "<div>\n",
       "<table border=\"1\" class=\"dataframe\">\n",
       "  <thead>\n",
       "    <tr style=\"text-align: right;\">\n",
       "      <th></th>\n",
       "      <th>Lat</th>\n",
       "      <th>Lon</th>\n",
       "      <th>distributed_pop</th>\n",
       "    </tr>\n",
       "  </thead>\n",
       "  <tbody>\n",
       "    <tr>\n",
       "      <th>0</th>\n",
       "      <td>32.71</td>\n",
       "      <td>-117.16</td>\n",
       "      <td>8905.75</td>\n",
       "    </tr>\n",
       "    <tr>\n",
       "      <th>1</th>\n",
       "      <td>32.72</td>\n",
       "      <td>-117.09</td>\n",
       "      <td>10741.75</td>\n",
       "    </tr>\n",
       "    <tr>\n",
       "      <th>2</th>\n",
       "      <td>32.74</td>\n",
       "      <td>-117.17</td>\n",
       "      <td>7670.00</td>\n",
       "    </tr>\n",
       "    <tr>\n",
       "      <th>3</th>\n",
       "      <td>32.73</td>\n",
       "      <td>-117.12</td>\n",
       "      <td>11236.75</td>\n",
       "    </tr>\n",
       "    <tr>\n",
       "      <th>4</th>\n",
       "      <td>32.73</td>\n",
       "      <td>-117.08</td>\n",
       "      <td>17567.50</td>\n",
       "    </tr>\n",
       "  </tbody>\n",
       "</table>\n",
       "</div>"
      ],
      "text/plain": [
       "     Lat     Lon  distributed_pop\n",
       "0  32.71 -117.16          8905.75\n",
       "1  32.72 -117.09         10741.75\n",
       "2  32.74 -117.17          7670.00\n",
       "3  32.73 -117.12         11236.75\n",
       "4  32.73 -117.08         17567.50"
      ]
     },
     "execution_count": 15,
     "metadata": {},
     "output_type": "execute_result"
    }
   ],
   "source": [
    "# Let's deal with population.\n",
    "# Create a column in our dataframe with a 'distributed population', that divides our \n",
    "# summed count by a set radius value, r^2. \n",
    "# *Note* this is assuming evenly distributed population in a zip code area\n",
    "\n",
    "\n",
    "# Initialize a series called 'distributed_pop'\n",
    "distributed_pop = pd.Series()\n",
    "\n",
    "# Add to dataframe\n",
    "merged_zips['distributed_pop'] = distributed_pop\n",
    "merged_zips.head(5)\n",
    "\n",
    "# Set radius value\n",
    "radius = 2\n",
    "\n",
    "for i in range(0, len(merged_zips)):\n",
    "    merged_zips.set_value(i, 'distributed_pop', \n",
    "                          str(((int(merged_zips.iloc[i]['Population']))/(radius*radius))))\n",
    "\n",
    "# Only need the coordinate values and distributed population in final dataframe for analysis\n",
    "merged_zips = merged_zips[['Lat','Lon','distributed_pop']]\n",
    "merged_zips.head(5)"
   ]
  },
  {
   "cell_type": "markdown",
   "metadata": {},
   "source": [
    "# Now lets put all of our data into a matrix of lists.\n",
    "We are going to make a matrix based off of coordinates ranges in our map. Each square in the map with contains a list of 4 items: \n",
    "\n",
    "crashes -  number of DUI related crashes in the area\n",
    "\n",
    "arrests - number of DUI related arrests in the area\n",
    "\n",
    "licenses - number of alcohol licenses in the area\n",
    "\n",
    "population - population size in the area"
   ]
  },
  {
   "cell_type": "code",
   "execution_count": 16,
   "metadata": {
    "collapsed": false
   },
   "outputs": [
    {
     "name": "stdout",
     "output_type": "stream",
     "text": [
      "Matrix will be of dimension 10x10\n",
      "\n",
      "Cell width: 0.0509999999999998 latitude points\n",
      "Cell height: 0.029999999999999714 longitude points\n",
      "\n",
      "[[0, 0, 0, 0, 0, 0, 0, 0, 0, 0], [0, 0, 0, 0, 0, 0, 0, 0, 0, 0], [0, 0, 0, 0, 0, 0, 0, 0, 0, 0], [0, 0, 0, 0, 0, 0, 0, 0, 0, 0], [0, 0, 0, 0, 0, 0, 0, 0, 0, 0], [0, 0, 0, 0, 0, 0, 0, 0, 0, 0], [0, 0, 0, 0, 0, 0, 0, 0, 0, 0], [0, 0, 0, 0, 0, 0, 0, 0, 0, 0], [0, 0, 0, 0, 0, 0, 0, 0, 0, 0], [0, 0, 0, 0, 0, 0, 0, 0, 0, 0]]\n"
     ]
    }
   ],
   "source": [
    "# Initialize boundary values for our grid that will model a slice of San Diego.\n",
    "\n",
    "min_lat = 32.54\n",
    "max_lat = 33.05\n",
    "min_lon = -117.25\n",
    "max_lon = -116.95\n",
    "\n",
    "#number of matrix columns and rows\n",
    "matrix_dim = 10\n",
    "\n",
    "#make matrix\n",
    "matrix = [[0 for j in range(matrix_dim)] for i in range(matrix_dim)]\n",
    "\n",
    "#width of a cell\n",
    "cell_width = abs((max_lat - min_lat)/matrix_dim)\n",
    "\n",
    "#height of a cell\n",
    "cell_height = (max_lon - min_lon)/matrix_dim\n",
    "\n",
    "print(\"Matrix will be of dimension \" + str(matrix_dim) + \"x\" + str(matrix_dim) + '\\n')\n",
    "print(\"Cell width: \" + str(cell_width) + \" latitude points\")\n",
    "print(\"Cell height: \" + str(cell_height) + \" longitude points\" + '\\n')\n",
    "\n",
    "print(matrix)"
   ]
  },
  {
   "cell_type": "code",
   "execution_count": 17,
   "metadata": {
    "collapsed": false
   },
   "outputs": [
    {
     "data": {
      "text/html": [
       "<div>\n",
       "<table border=\"1\" class=\"dataframe\">\n",
       "  <thead>\n",
       "    <tr style=\"text-align: right;\">\n",
       "      <th></th>\n",
       "      <th>0</th>\n",
       "      <th>(30.0206764, -90.10265509999999)</th>\n",
       "    </tr>\n",
       "  </thead>\n",
       "  <tbody>\n",
       "    <tr>\n",
       "      <th>0</th>\n",
       "      <td>1</td>\n",
       "      <td>(32.9178621, -117.1426708)</td>\n",
       "    </tr>\n",
       "    <tr>\n",
       "      <th>1</th>\n",
       "      <td>2</td>\n",
       "      <td>(41.4580185, -96.4925694)</td>\n",
       "    </tr>\n",
       "    <tr>\n",
       "      <th>2</th>\n",
       "      <td>3</td>\n",
       "      <td>(38.9062481, -90.13781209999999)</td>\n",
       "    </tr>\n",
       "    <tr>\n",
       "      <th>3</th>\n",
       "      <td>4</td>\n",
       "      <td>(36.077923, -102.519732)</td>\n",
       "    </tr>\n",
       "    <tr>\n",
       "      <th>4</th>\n",
       "      <td>5</td>\n",
       "      <td>(32.6972057, -117.032704)</td>\n",
       "    </tr>\n",
       "  </tbody>\n",
       "</table>\n",
       "</div>"
      ],
      "text/plain": [
       "   0  (30.0206764, -90.10265509999999)\n",
       "0  1        (32.9178621, -117.1426708)\n",
       "1  2         (41.4580185, -96.4925694)\n",
       "2  3  (38.9062481, -90.13781209999999)\n",
       "3  4          (36.077923, -102.519732)\n",
       "4  5         (32.6972057, -117.032704)"
      ]
     },
     "execution_count": 17,
     "metadata": {},
     "output_type": "execute_result"
    }
   ],
   "source": [
    "# Read in our geocoded data for crashes.\n",
    "crash_data = pd.read_csv('crash_coordinates.csv')\n",
    "crash_data.head(5)"
   ]
  },
  {
   "cell_type": "code",
   "execution_count": 18,
   "metadata": {
    "collapsed": false
   },
   "outputs": [],
   "source": [
    "# ARREST ARRAY\n",
    "arrest_data = pd.read_csv('dui_incidents_180.csv')\n",
    "arrest_data = arrest_data['coordinates']\n",
    "\n",
    "arrest_coords_arr = np.zeros(len(arrest_data), dtype=('2float'))\n",
    "coord = []\n",
    "# Organize arrest coordinates \n",
    "for i in range(0,len(arrest_data)-1):\n",
    "    coord = arrest_data.iloc[i]\n",
    "    opening_paren_index = coord.find(\"(\")\n",
    "    comma_index = coord.find(\",\")\n",
    "    closing_parn_index = coord.find(\")\")\n",
    "    arrest_lat = float(coord[opening_paren_index+1:comma_index])\n",
    "    arrest_lng = float(coord[comma_index+2:closing_parn_index])\n",
    "    arrest_coords_arr[i] = ((arrest_lat,arrest_lng))"
   ]
  },
  {
   "cell_type": "code",
   "execution_count": 19,
   "metadata": {
    "collapsed": false
   },
   "outputs": [],
   "source": [
    "# CRASH ARRAY\n",
    "crash_coords_df = pd.read_csv('crash_coordinates.csv')\n",
    "\n",
    "crash_coords_arr = np.zeros(len(df_zip_coords), dtype=('2float'))\n",
    "for i in range(0,len(crash_coords_arr)-1):\n",
    "    coord = crash_coords_df.iloc[i]\n",
    "    opening_paren_index = coord[1].find(\"(\")\n",
    "    comma_index = coord[1].find(\",\")\n",
    "    closing_parn_index = coord[1].find(\")\")\n",
    "    crash_lat = float(coord[1][opening_paren_index+1:comma_index])\n",
    "    crash_lng = float(coord[1][comma_index+2:closing_parn_index])\n",
    "    crash_coords_arr[i] = ((crash_lat,crash_lng))\n",
    "\n"
   ]
  },
  {
   "cell_type": "markdown",
   "metadata": {},
   "source": [
    "Cleaning Alcohol Permit Data\n",
    "---"
   ]
  },
  {
   "cell_type": "code",
   "execution_count": 20,
   "metadata": {
    "collapsed": false
   },
   "outputs": [],
   "source": [
    "# ALCOHOL PERMIT ARRAY\n",
    "alc_permits = pd.read_csv('abs-licenses-casnd.csv')\n",
    "crash_coordinates_s = pd.read_csv(\"crash_coordinates.csv\")\n",
    "crash_coordinates_s.head(5)\n",
    "\n",
    "# Reduce to pertinent data columns\n",
    "alc_permits = alc_permits[['last_date', 'status', 'issuedate', 'exprdate', 'lon', 'lat', 'business']]\n",
    "# Filter out data that may be outside the San Diego area.\n",
    "# Limit range so that any outliers or typos in data are eliminated\n",
    "\n",
    "alc_permits = alc_permits.drop(alc_permits[alc_permits['lon'] < -120].index)\n",
    "alc_permits.dropna(inplace = True)\n",
    "#Alcohol Permits SCATTER PLOTTING\n",
    "\n",
    "permit_coords = np.zeros(len(alc_permits), dtype=('2float'))\n",
    "\n",
    "# Collect an array of permit coordinates into 'permit_coords'\n",
    "for i in range(0, len(alc_permits)):\n",
    "    alc_lat = float(alc_permits['lat'].iloc[i])\n",
    "    alc_lng = float(alc_permits['lon'].iloc[i])\n",
    "    permit_coords[i] = (alc_lat, alc_lng)"
   ]
  },
  {
   "cell_type": "markdown",
   "metadata": {},
   "source": [
    "Modeling the Data as a Grid\n",
    "-------\n",
    "We will now gather all of our four data categories into a comprehensive matrix. Our leftmost grid square corresponds to our leftmost latitude boundary coordinate of our data while our rightmost grid square corresponds to our highest latitude boundary coordinate of our data.\n",
    "Similary, the top row of grid cells are the lowest longitude and the bottom row are the highest longitude coordinates.\n",
    "\n",
    "Each matrix cell is a list. List entry 1 is the number of crashes in that square, list entry 2 is the number of arrests, list entry 3 is the number of alcohol permits, and list entry 4 is an estimate for the population in that square of the matrix based on surrounding zip codes."
   ]
  },
  {
   "cell_type": "code",
   "execution_count": 21,
   "metadata": {
    "collapsed": false
   },
   "outputs": [
    {
     "name": "stdout",
     "output_type": "stream",
     "text": [
      "[[[0, 0, 0, 0], [0, 0, 0, 0], [0, 0, 0, 0], [1, 4, 85, 12194.0], [6, 38, 58, 11450.5], [1, 24, 60, 0], [0, 2, 11, 0], [1, 3, 23, 0], [0, 0, 120, 0], [0, 0, 8, 0]], [[0, 0, 0, 0], [0, 0, 0, 0], [0, 0, 0, 0], [0, 0, 46, 858.75], [2, 10, 139, 0], [3, 32, 36, 12654.25], [2, 8, 56, 10845.5], [0, 0, 16, 1063.25], [0, 1, 4, 12429.0], [0, 0, 0, 0]], [[0, 0, 0, 0], [0, 0, 0, 0], [0, 0, 41, 283.75], [0, 1, 183, 19064.5], [5, 5, 86, 5963.0], [0, 13, 55, 24621.75], [0, 0, 13, 0], [0, 0, 16, 0], [1, 1, 2, 12429.0], [0, 0, 0, 0]], [[0, 0, 8, 0], [0, 0, 1, 0], [0, 0, 0, 4544.0], [1, 8, 153, 8944.5], [6, 17, 152, 0], [1, 12, 130, 18553.25], [0, 0, 11, 18259.75], [3, 3, 21, 0], [0, 1, 2, 0], [0, 1, 0, 0]], [[0, 0, 12, 0], [0, 0, 5, 0], [0, 2, 23, 15689.75], [0, 3, 72, 11236.75], [1, 21, 129, 12407.5], [0, 2, 30, 6585.75], [0, 0, 11, 18259.25], [1, 4, 36, 0], [0, 4, 19, 12802.0], [0, 0, 18, 9818.0]], [[0, 0, 13, 0], [0, 0, 82, 0], [0, 0, 112, 0], [5, 6, 29, 28309.25], [3, 18, 89, 4547.75], [1, 2, 8, 7583.0], [0, 0, 0, 0], [0, 0, 7, 0], [0, 5, 45, 0], [0, 4, 51, 0]], [[1, 1, 11, 7329.5], [0, 0, 36, 0], [1, 2, 13, 8770.5], [0, 4, 19, 16358.25], [5, 5, 74, 21224.75], [0, 1, 13, 0], [0, 0, 0, 8581.5], [0, 0, 2, 0], [0, 0, 45, 11848.25], [0, 0, 10, 0]], [[0, 1, 6, 27137.75], [0, 0, 23, 0], [0, 1, 5, 8770.5], [1, 0, 27, 0], [0, 1, 108, 0], [0, 0, 9, 5759.75], [0, 0, 0, 0], [0, 0, 2, 0], [0, 0, 27, 0], [0, 0, 2, 0]], [[1, 0, 5, 19808.25], [0, 0, 10, 0], [0, 0, 4, 0], [0, 0, 0, 0], [0, 0, 28, 0], [0, 0, 59, 0], [0, 0, 4, 0], [0, 0, 0, 0], [0, 0, 0, 0], [0, 0, 0, 0]], [[0, 0, 4, 0], [0, 0, 16, 0], [0, 0, 21, 0], [0, 0, 0, 0], [0, 0, 41, 0], [0, 0, 50, 0], [0, 0, 9, 0], [0, 0, 0, 0], [0, 0, 0, 0], [0, 0, 0, 0]]]\n"
     ]
    }
   ],
   "source": [
    "# Input data into matrix lists\n",
    "\n",
    "for i in range(matrix_dim):\n",
    "    for j in range(matrix_dim):\n",
    "        # Initialize array to count instances that a coordinate meets boundary conditions\n",
    "        in_list=[]\n",
    "        crash_array=[]\n",
    "        arrest_array=[]\n",
    "        permit_array=[]\n",
    "        pop_array=[]\n",
    "        #print(float(merged_zips.loc[0][1]))\n",
    "        for k in range(len(crash_coords_arr)):\n",
    "            crash_bool = ((crash_coords_arr[k][0] >= min_lat + cell_width*i) \n",
    "                             and (crash_coords_arr[k][0] <= min_lat + cell_width*(i+1))\n",
    "                             and (crash_coords_arr[k][1] >= min_lon + cell_height*j) \n",
    "                             and (crash_coords_arr[k][1] <= min_lon + cell_height*(j+1)))\n",
    "            if crash_bool == True:\n",
    "                crash_array.append(1)\n",
    "        for k in range(len(arrest_coords_arr)):\n",
    "            arrest_bool = ((arrest_coords_arr[k][0] >= min_lat + cell_width*i) \n",
    "                             and (arrest_coords_arr[k][0] <= min_lat + cell_width*(i+1))\n",
    "                             and (arrest_coords_arr[k][1] >= min_lon + cell_height*j) \n",
    "                             and (arrest_coords_arr[k][1] <= min_lon + cell_height*(j+1)))\n",
    "            if arrest_bool == True:\n",
    "                arrest_array.append(1)\n",
    "        for k in range(len(permit_coords)):\n",
    "            permit_bool = ((permit_coords[k][0] >= min_lat + cell_width*i) \n",
    "                             and (permit_coords[k][0] <= min_lat + cell_width*(i+1))\n",
    "                             and (permit_coords[k][1] >= min_lon + cell_height*j) \n",
    "                             and (permit_coords[k][1] <= min_lon + cell_height*(j+1)))\n",
    "            if permit_bool == True:\n",
    "                permit_array.append(1)\n",
    "        for k in range(len(merged_zips)):\n",
    "            pop_bool = ((float(merged_zips.loc[k][0]) >= min_lat + cell_width*i) \n",
    "                             and (float(merged_zips.loc[k][0]) <= min_lat + cell_width*(i+1))\n",
    "                             and (float(merged_zips.loc[k][1]) >= min_lon + cell_height*j) \n",
    "                             and (float(merged_zips.loc[k][1]) <= min_lon + cell_height*(j+1)))\n",
    "            if pop_bool == True:\n",
    "                pop_array.append(merged_zips.loc[k][2])\n",
    "        ###############################\n",
    "        # How we organized our 4 data points:\n",
    "        # list[0] = # of crashes\n",
    "        # list[1] = # of arrests\n",
    "        # list[2] = # of permits\n",
    "        # list[3] = # of people\n",
    "        ###########################\n",
    "        in_list.append(len(crash_array))\n",
    "        in_list.append(len(arrest_array))\n",
    "        in_list.append(len(permit_array))\n",
    "        in_list.append(sum(pop_array))\n",
    "        matrix[j][i] = in_list\n",
    "print(matrix)\n",
    "\n",
    "### NOTE: Sum for population count"
   ]
  },
  {
   "cell_type": "code",
   "execution_count": 32,
   "metadata": {
    "collapsed": false
   },
   "outputs": [
    {
     "name": "stdout",
     "output_type": "stream",
     "text": [
      "Candidate 1:  [1, 12, 130, 18553.25]\n",
      "Candidate 2:  [6, 17, 152, 0]\n",
      "Candidate 3:  [0, 3, 72, 11236.75]\n"
     ]
    }
   ],
   "source": [
    "print(\"Candidate 1: \",matrix[3][5])\n",
    "print(\"Candidate 2: \", matrix[3][4])\n",
    "print(\"Candidate 3: \", matrix[4][3])"
   ]
  },
  {
   "cell_type": "markdown",
   "metadata": {
    "collapsed": false
   },
   "source": [
    "# Visualization"
   ]
  },
  {
   "cell_type": "markdown",
   "metadata": {},
   "source": [
    "# 1. Heatmapping"
   ]
  },
  {
   "cell_type": "code",
   "execution_count": 22,
   "metadata": {
    "collapsed": false
   },
   "outputs": [
    {
     "data": {
      "image/png": "[encoded data removed]",
      "text/plain": [
       "<matplotlib.figure.Figure at 0x11b7b7b38>"
      ]
     },
     "metadata": {},
     "output_type": "display_data"
    }
   ],
   "source": [
    "# HEATMAPPING ARRESTS\n",
    "arrest_matrix= [[0 for j in range(matrix_dim)] for i in range(matrix_dim)]\n",
    "for i in range(matrix_dim):\n",
    "    for j in range(matrix_dim):\n",
    "        in_list = matrix[i][j]\n",
    "        population = in_list[3]\n",
    "        if population == 0:\n",
    "            #cannot divide by 0\n",
    "            population = .001\n",
    "        arrest_matrix[i][j] = in_list[1]/population\n",
    "\n",
    "plt.imshow(arrest_matrix, cmap='hot', interpolation='nearest')\n",
    "p = plt.colorbar()\n",
    "plt.title('Hot Spots of DUI Arrests')\n",
    "plt.xlabel('Grid Cell')\n",
    "plt.ylabel('Grid Cell')\n",
    "plt.show()"
   ]
  },
  {
   "cell_type": "code",
   "execution_count": 23,
   "metadata": {
    "collapsed": false
   },
   "outputs": [
    {
     "data": {
      "image/png": "[encoded data removed]",
      "text/plain": [
       "<matplotlib.figure.Figure at 0x115cdb208>"
      ]
     },
     "metadata": {},
     "output_type": "display_data"
    }
   ],
   "source": [
    "# HEATMAPPING Crashes\n",
    "crash_matrix= [[0 for j in range(matrix_dim)] for i in range(matrix_dim)]\n",
    "for i in range(matrix_dim):\n",
    "    for j in range(matrix_dim):\n",
    "        in_list = matrix[i][j]\n",
    "        population = in_list[3]\n",
    "        if population == 0:\n",
    "            #cannot divide by 0\n",
    "            population = .001\n",
    "        crash_matrix[i][j] = in_list[0]/population\n",
    "\n",
    "plt.imshow(crash_matrix, cmap='hot', interpolation='nearest')\n",
    "p = plt.colorbar()\n",
    "plt.title('Hot Spots of DUI Crashes')\n",
    "plt.xlabel('Grid Cell')\n",
    "plt.ylabel('Grid Cell')\n",
    "plt.show()"
   ]
  },
  {
   "cell_type": "code",
   "execution_count": 24,
   "metadata": {
    "collapsed": false
   },
   "outputs": [
    {
     "data": {
      "image/png": "[encoded data removed]",
      "text/plain": [
       "<matplotlib.figure.Figure at 0x11a453908>"
      ]
     },
     "metadata": {},
     "output_type": "display_data"
    }
   ],
   "source": [
    "# HEATMAPPING Permits\n",
    "permit_matrix= [[0 for j in range(matrix_dim)] for i in range(matrix_dim)]\n",
    "for i in range(matrix_dim):\n",
    "    for j in range(matrix_dim):\n",
    "        in_list = matrix[i][j]\n",
    "        population = in_list[3]\n",
    "        if population == 0:\n",
    "            #cannot divide by 0\n",
    "            population = .001\n",
    "        permit_matrix[i][j] = in_list[2]/population\n",
    "\n",
    "plt.imshow(permit_matrix, cmap='hot', interpolation='nearest')\n",
    "plt.title('Hot Spots of Alcohol Permits')\n",
    "plt.xlabel('Grid Cell')\n",
    "plt.ylabel('Grid Cell')\n",
    "p = plt.colorbar()\n",
    "plt.show()"
   ]
  },
  {
   "cell_type": "markdown",
   "metadata": {},
   "source": [
    "# 2. Scatterplotting"
   ]
  },
  {
   "cell_type": "code",
   "execution_count": 25,
   "metadata": {
    "collapsed": false
   },
   "outputs": [
    {
     "name": "stdout",
     "output_type": "stream",
     "text": [
      "Ratio of Crashes per Arrest:  0.130850866568\n"
     ]
    },
    {
     "data": {
      "image/png": "[encoded data removed]",
      "text/plain": [
       "<matplotlib.figure.Figure at 0x11b1d9048>"
      ]
     },
     "metadata": {},
     "output_type": "display_data"
    }
   ],
   "source": [
    "# ARREST v. CRASH SCATTERPLOT\n",
    "import matplotlib.patches as mpatches\n",
    "\n",
    "arrest_matrix_scatter= [[0 for j in range(matrix_dim)] for i in range(matrix_dim)]\n",
    "for i in range(matrix_dim):\n",
    "    for j in range(matrix_dim):\n",
    "        in_list = matrix[i][j]\n",
    "        arrest_matrix_scatter[i][j] = in_list[1]\n",
    "\n",
    "crash_matrix_scatter= [[0 for j in range(matrix_dim)] for i in range(matrix_dim)]\n",
    "for i in range(matrix_dim):\n",
    "    for j in range(matrix_dim):\n",
    "        in_list = matrix[i][j]\n",
    "        crash_matrix_scatter[i][j] = in_list[0]\n",
    "\n",
    "\n",
    "AF = np.array(arrest_matrix_scatter).flatten()\n",
    "CF = np.array(crash_matrix_scatter).flatten()\n",
    "\n",
    "plt.scatter(AF[:],CF[:], c='blue')\n",
    "# Set our axis data\n",
    "x = AF\n",
    "y = CF\n",
    "\n",
    "# Fit to a line with polyfit\n",
    "m, b = np.polyfit(x, y, 1)\n",
    "\n",
    "plt.plot(x, y, '.')\n",
    "plt.plot(x, m*x + b, '-')\n",
    "print(\"Ratio of Crashes per Arrest: \", m)\n",
    "plt.xlabel('DUI Arrests')\n",
    "plt.ylabel('DUI Crashes')\n",
    "plt.show()"
   ]
  },
  {
   "cell_type": "code",
   "execution_count": 26,
   "metadata": {
    "collapsed": false
   },
   "outputs": [
    {
     "name": "stdout",
     "output_type": "stream",
     "text": [
      "Ratio of Permits per Arrest:  2.83242506484\n"
     ]
    },
    {
     "data": {
      "image/png": "[encoded data removed]",
      "text/plain": [
       "<matplotlib.figure.Figure at 0x11b11d518>"
      ]
     },
     "metadata": {},
     "output_type": "display_data"
    }
   ],
   "source": [
    "# ARREST v. PERMIT SCATTERPLOT\n",
    "\n",
    "permit_matrix_scatter= [[0 for j in range(matrix_dim)] for i in range(matrix_dim)]\n",
    "for i in range(matrix_dim):\n",
    "    for j in range(matrix_dim):\n",
    "        in_list = matrix[i][j]\n",
    "        permit_matrix_scatter[i][j] = in_list[2]\n",
    "\n",
    "PF = np.array(permit_matrix_scatter).flatten()\n",
    "\n",
    "plt.scatter(AF[:],PF[:], c='red')\n",
    "# Set our axis values\n",
    "x = AF\n",
    "y = PF\n",
    "\n",
    "# Fit to a line with polyfit\n",
    "m, b = np.polyfit(x, y, 1)\n",
    "\n",
    "plt.plot(x, y, '.')\n",
    "plt.plot(x, m*x + b, '-')\n",
    "plt.xlabel('DUI Arrests')\n",
    "plt.ylabel('Permits')\n",
    "print(\"Ratio of Permits per Arrest: \", m)\n",
    "\n",
    "plt.show()"
   ]
  },
  {
   "cell_type": "code",
   "execution_count": 29,
   "metadata": {
    "collapsed": false
   },
   "outputs": [
    {
     "name": "stdout",
     "output_type": "stream",
     "text": [
      "Ratio of Permits per Crash:  12.6996584986\n"
     ]
    },
    {
     "data": {
      "image/png": "[encoded data removed]",
      "text/plain": [
       "<matplotlib.figure.Figure at 0x11b51bda0>"
      ]
     },
     "metadata": {},
     "output_type": "display_data"
    }
   ],
   "source": [
    "plt.scatter(CF[:],PF[:], c='red')\n",
    "# Set our axis values\n",
    "x = CF\n",
    "y = PF\n",
    "\n",
    "# Fit to a line with polyfit\n",
    "m, b = np.polyfit(x, y, 1)\n",
    "\n",
    "plt.plot(x, y, '.')\n",
    "plt.plot(x, m*x + b, '-')\n",
    "plt.xlabel('DUI Crashes')\n",
    "plt.ylabel('Permits')\n",
    "print(\"Ratio of Permits per Crash: \", m)\n",
    "\n",
    "plt.show()"
   ]
  },
  {
   "cell_type": "markdown",
   "metadata": {},
   "source": [
    "What does our 'grid' of San Diego look like?\n",
    "-----"
   ]
  },
  {
   "cell_type": "code",
   "execution_count": 35,
   "metadata": {
    "collapsed": false
   },
   "outputs": [
    {
     "data": {
      "image/png": "[encoded data removed]",
      "text/plain": [
       "<matplotlib.figure.Figure at 0x11b1d9cf8>"
      ]
     },
     "metadata": {},
     "output_type": "display_data"
    }
   ],
   "source": [
    "# Plot all 4 of our datasets in our grid of San Diego\n",
    "\n",
    "fig = plt.figure()\n",
    "ax1 = fig.add_subplot(111)\n",
    "ax1.set_xlim(32.54,33.05)\n",
    "ax1.set_ylim(-117.26,-116.95 )\n",
    "\n",
    "#Zip coordinates\n",
    "zip_coordinates = np.zeros(len(df_zip_coords), dtype=('2float'))\n",
    "\n",
    "for i in range(0,len(merged_zips)):\n",
    "    zip_lat = float(merged_zips.iloc[i]['Lat'])\n",
    "    zip_lng = float(merged_zips.iloc[i]['Lon']) \n",
    "    zip_coordinates[i] = (zip_lat,zip_lng)\n",
    "    \n",
    "#Alcohol Permits SCATTER PLOTTING\n",
    "\n",
    "coords = np.zeros(len(alc_permits), dtype=('2float'))\n",
    "\n",
    "for i in range(0, len(alc_permits)):\n",
    "    alc_lat = float(alc_permits['lat'].iloc[i])\n",
    "    alc_lng = float(alc_permits['lon'].iloc[i])\n",
    "    coords[i] = (alc_lat, alc_lng)\n",
    "        \n",
    "coords = coords[0:len(coords)-2]\n",
    "ax1.scatter(coords[:,0], coords[:,1], c='red')\n",
    "ax1.scatter(zip_coordinates[:,0],zip_coordinates[:,1], c='blue')\n",
    "ax1.scatter(crash_coords_arr[:,0],crash_coords_arr[:,1], c='yellow')\n",
    "ax1.scatter(arrest_coords_arr[:,0],arrest_coords_arr[:,1],c='green')\n",
    "\n",
    "#create legend\n",
    "red_dots = mpatches.Patch(color='red',label='ABS Locations')\n",
    "blue_dots = mpatches.Patch(color='blue',label='Postal Zip Codes')\n",
    "yellow_dots = mpatches.Patch(color='yellow',label='DUI Crash Locations')\n",
    "green_dots = mpatches.Patch(color='green',label='DUI Arrest Locations')\n",
    "\n",
    "plt.legend(handles=[red_dots,blue_dots,yellow_dots,green_dots])\n",
    "\n",
    "# Turn on the grid\n",
    "plt.show()\n",
    "\n"
   ]
  },
  {
   "cell_type": "markdown",
   "metadata": {},
   "source": [
    "# 3. OLS Modeling"
   ]
  },
  {
   "cell_type": "code",
   "execution_count": 27,
   "metadata": {
    "collapsed": false
   },
   "outputs": [],
   "source": [
    "import patsy\n",
    "import statsmodels.api as sm"
   ]
  },
  {
   "cell_type": "code",
   "execution_count": 28,
   "metadata": {
    "collapsed": false
   },
   "outputs": [
    {
     "name": "stdout",
     "output_type": "stream",
     "text": [
      "                            OLS Regression Results                            \n",
      "==============================================================================\n",
      "Dep. Variable:                      y   R-squared:                       0.200\n",
      "Model:                            OLS   Adj. R-squared:                  0.192\n",
      "Method:                 Least Squares   F-statistic:                     24.55\n",
      "Date:                Mon, 12 Jun 2017   Prob (F-statistic):           3.03e-06\n",
      "Time:                        18:22:29   Log-Likelihood:                -317.03\n",
      "No. Observations:                 100   AIC:                             638.1\n",
      "Df Residuals:                      98   BIC:                             643.3\n",
      "Df Model:                           1                                         \n",
      "Covariance Type:            nonrobust                                         \n",
      "==============================================================================\n",
      "                 coef    std err          t      P>|t|      [95.0% Conf. Int.]\n",
      "------------------------------------------------------------------------------\n",
      "Intercept      0.5810      0.724      0.803      0.424        -0.855     2.017\n",
      "x              0.0707      0.014      4.955      0.000         0.042     0.099\n",
      "==============================================================================\n",
      "Omnibus:                      105.050   Durbin-Watson:                   1.501\n",
      "Prob(Omnibus):                  0.000   Jarque-Bera (JB):             1332.002\n",
      "Skew:                           3.515   Prob(JB):                    5.75e-290\n",
      "Kurtosis:                      19.439   Cond. No.                         63.0\n",
      "==============================================================================\n",
      "\n",
      "Warnings:\n",
      "[1] Standard Errors assume that the covariance matrix of the errors is correctly specified.\n"
     ]
    }
   ],
   "source": [
    "# Regression 1: Permits vs. Arrests\n",
    "x = PF\n",
    "y = AF\n",
    "\n",
    "# Take the arrays uses for crash and arrest data, and create an OLS model.\n",
    "arrest_permits = pd.DataFrame({'x': x, 'y':y})\n",
    "\n",
    "# Let Arrests be our dependent value, based on number of Permits.\n",
    "outcome, predictors = patsy.dmatrices('y ~ x', arrest_permits)\n",
    "\n",
    "mod = sm.OLS(outcome,predictors)\n",
    "\n",
    "res = mod.fit()\n",
    "print(res.summary())"
   ]
  },
  {
   "cell_type": "markdown",
   "metadata": {},
   "source": [
    "OLS Results: How well do permit counts predict arrest counts?\n",
    "-------------------\n",
    "Since our p-value obtained is very small (reads as 0.000) for the x column which represents permit counts, we can say with confidence that our coefficient of 0.0707 is statistically significant and close to the true value of arrests per permit. Thus, we can approximate that there are roughly 7 arrests for every 100 alcohol permits in San Diego."
   ]
  },
  {
   "cell_type": "code",
   "execution_count": 29,
   "metadata": {
    "collapsed": false
   },
   "outputs": [
    {
     "name": "stdout",
     "output_type": "stream",
     "text": [
      "                            OLS Regression Results                            \n",
      "==============================================================================\n",
      "Dep. Variable:                      y   R-squared:                       0.162\n",
      "Model:                            OLS   Adj. R-squared:                  0.153\n",
      "Method:                 Least Squares   F-statistic:                     18.93\n",
      "Date:                Mon, 12 Jun 2017   Prob (F-statistic):           3.33e-05\n",
      "Time:                        18:22:31   Log-Likelihood:                -158.68\n",
      "No. Observations:                 100   AIC:                             321.4\n",
      "Df Residuals:                      98   BIC:                             326.6\n",
      "Df Model:                           1                                         \n",
      "Covariance Type:            nonrobust                                         \n",
      "==============================================================================\n",
      "                 coef    std err          t      P>|t|      [95.0% Conf. Int.]\n",
      "------------------------------------------------------------------------------\n",
      "Intercept      0.1463      0.148      0.985      0.327        -0.148     0.441\n",
      "x              0.0127      0.003      4.351      0.000         0.007     0.019\n",
      "==============================================================================\n",
      "Omnibus:                       68.543   Durbin-Watson:                   2.183\n",
      "Prob(Omnibus):                  0.000   Jarque-Bera (JB):              288.121\n",
      "Skew:                           2.410   Prob(JB):                     2.73e-63\n",
      "Kurtosis:                       9.777   Cond. No.                         63.0\n",
      "==============================================================================\n",
      "\n",
      "Warnings:\n",
      "[1] Standard Errors assume that the covariance matrix of the errors is correctly specified.\n"
     ]
    }
   ],
   "source": [
    "# Regression 2: Permits vs. Crashes\n",
    "\n",
    "# Assign x column to 'CF' (Crash data), y column to 'PF' (Permit data)\n",
    "x = PF\n",
    "y = CF\n",
    "# Take the arrays uses for crash and arrest data, and create an OLS model.\n",
    "crash_permits = pd.DataFrame({'x': x, 'y':y})\n",
    "outcome, predictors = patsy.dmatrices('y ~ x', crash_permits)\n",
    "\n",
    "mod = sm.OLS(outcome,predictors)\n",
    "\n",
    "res = mod.fit()\n",
    "print(res.summary())"
   ]
  },
  {
   "cell_type": "markdown",
   "metadata": {},
   "source": [
    "OLS Results: How well do permit counts predict crash counts?\n",
    "------------------------\n",
    "Since the results above show a very small p value (reads 0.000 for the y column, represented by Permit Count data, we see that our coefficient is statistically significant and we can believe with confidence that there are roughly 127 car crashes for every 10,000 alcohol permits in San Diego."
   ]
  },
  {
   "cell_type": "code",
   "execution_count": 52,
   "metadata": {
    "collapsed": false
   },
   "outputs": [
    {
     "name": "stdout",
     "output_type": "stream",
     "text": [
      "Pop_arrests dictionary:  \n",
      "\n",
      " {0: 0, 12194.0: 4, 11450.5: 38, 858.75: 0, 12654.25: 32, 10845.5: 8, 1063.25: 0, 12429.0: 1, 283.75: 0, 19064.5: 1, 5963.0: 5, 24621.75: 13, 4544.0: 0, 8944.5: 8, 18553.25: 12, 18259.75: 0, 15689.75: 2, 11236.75: 3, 12407.5: 21, 6585.75: 2, 18259.25: 0, 12802.0: 4, 28309.25: 6, 4547.75: 18, 7583.0: 2, 7329.5: 1, 8770.5: 1, 16358.25: 4, 21224.75: 5, 8581.5: 0, 11848.25: 0, 27137.75: 1, 5759.75: 0, 19808.25: 0} \n",
      "\n",
      " Pop_crashes dictionary:  \n",
      "\n",
      " {0: 0, 12194.0: 1, 11450.5: 6, 858.75: 0, 12654.25: 3, 10845.5: 2, 1063.25: 0, 12429.0: 1, 283.75: 0, 19064.5: 0, 5963.0: 5, 24621.75: 0, 4544.0: 0, 8944.5: 1, 18553.25: 1, 18259.75: 0, 15689.75: 0, 11236.75: 0, 12407.5: 1, 6585.75: 0, 18259.25: 0, 12802.0: 0, 28309.25: 5, 4547.75: 3, 7583.0: 1, 7329.5: 1, 8770.5: 0, 16358.25: 0, 21224.75: 5, 8581.5: 0, 11848.25: 0, 27137.75: 0, 5759.75: 0, 19808.25: 1}\n"
     ]
    }
   ],
   "source": [
    "# Sort matrix cells by population, create a histogram that shows what the distribution\n",
    "# of arrests/crashes is. \n",
    "\n",
    "from operator import itemgetter\n",
    "pop_arrests = {}\n",
    "pop_crashes = {}\n",
    "for i in range(0, len(matrix)-1):\n",
    "    for j in range(0, len(matrix)-1):\n",
    "        population = ((matrix[i])[j])[3]\n",
    "        arrests = ((matrix[i])[j])[1]\n",
    "        crashes = ((matrix[i])[j])[0]\n",
    "        # add key-value pairs of population and arrest to a dictionary.\n",
    "        pop_arrests[population] = arrests\n",
    "        pop_crashes[population] = crashes\n",
    "        \n",
    "print(\"Pop_arrests dictionary: \", '\\n\\n', pop_arrests, '\\n\\n', \n",
    "      \"Pop_crashes dictionary: \", '\\n\\n', pop_crashes)\n",
    "#sorted(matrix[1], key=itemgetter(3))"
   ]
  },
  {
   "cell_type": "code",
   "execution_count": 31,
   "metadata": {
    "collapsed": false
   },
   "outputs": [
    {
     "data": {
      "text/plain": [
       "array([  0.,   0.,   0.,   0.,   0.,  18.,   0.,   5.,   2.,   1.,   2.,\n",
       "         0.,   1.,   8.,   8.,   3.,  38.,   0.,   4.,  21.,   1.,  32.,\n",
       "         4.,   2.,   4.,   0.,   0.,  12.,   1.,   0.,   5.,  13.,   1.,\n",
       "         6.])"
      ]
     },
     "execution_count": 31,
     "metadata": {},
     "output_type": "execute_result"
    }
   ],
   "source": [
    "import operator\n",
    "sorted_x = sorted(pop_arrests.items(), key=operator.itemgetter(0))\n",
    "\n",
    "y = np.zeros(len(sorted_x))\n",
    "x = np.zeros(len(sorted_x))\n",
    "\n",
    "for i in range(0, len(sorted_x)):\n",
    "    y[i] = int(sorted_x[i][1])\n",
    "    x[i] = int(sorted_x[i][0])\n",
    "x\n",
    "y"
   ]
  },
  {
   "cell_type": "code",
   "execution_count": 34,
   "metadata": {
    "collapsed": false
   },
   "outputs": [
    {
     "data": {
      "image/png": "[encoded data removed]",
      "text/plain": [
       "<matplotlib.figure.Figure at 0x114e2aa58>"
      ]
     },
     "metadata": {},
     "output_type": "display_data"
    }
   ],
   "source": [
    "# Plot bar chart\n",
    "import matplotlib.ticker as ticker\n",
    "import math\n",
    "ax = plt.subplot()\n",
    "\n",
    "plt.bar(range(len(pop_arrests)), pop_arrests.values(),align='center', color='g')\n",
    "\n",
    "plt.xticks(range(len(pop_arrests)), pop_arrests.keys())\n",
    "plt.xlabel('Population count')\n",
    "plt.ylabel('Arrest count')\n",
    "plt.title('Arrest Counts for Discrete Population Counts')\n",
    "\n",
    "\n",
    "tick_spacing = 10\n",
    "ax.xaxis.set_major_locator(ticker.MultipleLocator(tick_spacing))\n",
    "plt.show()\n"
   ]
  },
  {
   "cell_type": "markdown",
   "metadata": {},
   "source": [
    "NOTE: The green barchart has dictionary keys plotted, which are unordered. Let's order them below and replot to see our distribution as population counts are listed from least to greatest."
   ]
  },
  {
   "cell_type": "code",
   "execution_count": 43,
   "metadata": {
    "collapsed": false
   },
   "outputs": [
    {
     "name": "stdout",
     "output_type": "stream",
     "text": [
      "Ordered list of population x-axis indices:  \n",
      "\n",
      "[     0.      283.75    858.75   1063.25   4544.     4547.75   5759.75\n",
      "   5963.     6585.75   7329.5    7583.     8581.5    8770.5    8944.5\n",
      "  10845.5   11236.75  11450.5   11848.25  12194.    12407.5   12429.\n",
      "  12654.25  12802.    15689.75  16358.25  18259.25  18259.75  18553.25\n",
      "  19064.5   19808.25  21224.75  24621.75  27137.75  28309.25] \n",
      "\n",
      "Corresponding arrest count y-axis values:  \n",
      "\n",
      "[ 0  0  0  0  0 18  0  5  2  1  2  0  1  8  8  3 38  0  4 21  1 32  4  2  4\n",
      "  0  0 12  1  0  5 13  1  6]\n"
     ]
    },
    {
     "data": {
      "image/png": "[encoded data removed]",
      "text/plain": [
       "<matplotlib.figure.Figure at 0x1157e86d8>"
      ]
     },
     "metadata": {},
     "output_type": "display_data"
    }
   ],
   "source": [
    "# Looking at the data in the previous bar chart, we see that the dictionary keys are unordered.\n",
    "# Let's sort them and replot our bar chart.\n",
    "\n",
    "lists = sorted(pop_arrests.items()) # sorted by key, return a list of tuples\n",
    "\n",
    "x, y = zip(*lists)\n",
    "x1 = np.array(x)\n",
    "print(\"Ordered list of population x-axis indices: \", '\\n')\n",
    "print(x1, '\\n')\n",
    "print(\"Corresponding arrest count y-axis values: \", '\\n')\n",
    "y1 = np.array(y)\n",
    "print(y1)\n",
    "range_x1 = range(len(x1))\n",
    "plt.xlabel('Population Count Index')\n",
    "plt.ylabel('Arrest Count')\n",
    "plt.title('Arrest Counts for Ordered Discrete Population Counts')\n",
    "plt.bar(range_x1, y1, color = 'r')\n",
    "plt.show()"
   ]
  },
  {
   "cell_type": "markdown",
   "metadata": {},
   "source": [
    "NOTE: \n",
    "Unfortunately, in the above bar chart I could not figure out how to replace the 0 through 35 x-axis range with the actual population counts they correspond to. However, it must be noted that the ith index of the 'Ordered list of population x-axis indices' array printed above corresponds to the i label on the bar chart.\n",
    "For example, index 5, the first bar in the chart corresponds to the 6th element of the array, which has a population of 4547.75 giving 18 arrests.\n",
    "The data should be read as such."
   ]
  },
  {
   "cell_type": "code",
   "execution_count": 55,
   "metadata": {
    "collapsed": false
   },
   "outputs": [
    {
     "name": "stdout",
     "output_type": "stream",
     "text": [
      "Ordered list of population x-axis indices:  \n",
      "\n",
      "[     0.      283.75    858.75   1063.25   4544.     4547.75   5759.75\n",
      "   5963.     6585.75   7329.5    7583.     8581.5    8770.5    8944.5\n",
      "  10845.5   11236.75  11450.5   11848.25  12194.    12407.5   12429.\n",
      "  12654.25  12802.    15689.75  16358.25  18259.25  18259.75  18553.25\n",
      "  19064.5   19808.25  21224.75  24621.75  27137.75  28309.25] \n",
      "\n",
      "Corresponding arrest count y-axis values:  \n",
      "\n",
      "[0 0 0 0 0 3 0 5 0 1 1 0 0 1 2 0 6 0 1 1 1 3 0 0 0 0 0 1 0 1 5 0 0 5]\n"
     ]
    },
    {
     "data": {
      "image/png": "[encoded data removed]",
      "text/plain": [
       "<matplotlib.figure.Figure at 0x114fd9898>"
      ]
     },
     "metadata": {},
     "output_type": "display_data"
    }
   ],
   "source": [
    "# Similarly, let's make an ordered bar chart displaying the occurrences of DUI crashes as\n",
    "# population counts increase from left to right.\n",
    "\n",
    "lists = sorted(pop_crashes.items()) # sorted by key, return a list of tuples\n",
    "\n",
    "x, y = zip(*lists)\n",
    "x1 = np.array(x)\n",
    "print(\"Ordered list of population x-axis indices: \", '\\n')\n",
    "print(x1, '\\n')\n",
    "print(\"Corresponding arrest count y-axis values: \", '\\n')\n",
    "y1 = np.array(y)\n",
    "print(y1)\n",
    "range_x1 = range(len(x1))\n",
    "plt.xlabel('Population Count Index')\n",
    "plt.ylabel('Crash Count')\n",
    "plt.title('Crash Counts for Ordered Discrete Population Counts')\n",
    "plt.bar(range_x1, y1, color = 'y')\n",
    "plt.show()"
   ]
  },
  {
   "cell_type": "markdown",
   "metadata": {},
   "source": [
    "# Analysis and Results"
   ]
  },
  {
   "cell_type": "markdown",
   "metadata": {},
   "source": [
    "Heatmap Results\n",
    "----"
   ]
  },
  {
   "cell_type": "markdown",
   "metadata": {},
   "source": [
    "Our heatmapping for both Crashes and Alcohol Permits shows the highest count of both variables to be in Gaslamp Quarter in downtown San Diego.\n",
    "\n",
    "Our heatmapping result for Arrests shows the highest occurrence of arrests to be in Pacific Beach, another neighborhood well-reputed for drinking."
   ]
  },
  {
   "cell_type": "markdown",
   "metadata": {},
   "source": [
    "Scatterplotting/Line of Best Fit Results\n",
    "----"
   ]
  },
  {
   "cell_type": "markdown",
   "metadata": {},
   "source": [
    "Plot 1: Ratio of Crashes vs. Arrests\n",
    "------\n",
    "Our data does not appear to be very linear, so using a line of best fit may not accurately depict the relationship between crashes and arrests. This is elucidated further in our bar chart analysis, since it does not appear that the ratio of crashes to arrests stays consistent as population increases."
   ]
  },
  {
   "cell_type": "markdown",
   "metadata": {},
   "source": [
    "Plot 2: Ratio of Permits vs. Arrests\n",
    "------\n",
    "Our data again does not appear to be very linear, so using a line of best fit may not accurately depict the relationship between permits and arrests. However, this data is more densely clustered around smaller numbers of permits and smaller numbers of arrests, so this subset of the data may more accurately be represented by the ratio value obtained of 2.8 permits per arrest."
   ]
  },
  {
   "cell_type": "markdown",
   "metadata": {},
   "source": [
    "OLS Result 1: How well do permit counts predict crash counts?\n",
    "------------------------\n",
    "Since the results above show a very small p value (reads 0.000 for the y column, represented by Permit Count data, we see that our coefficient is statistically significant. However, our R squared value is rather small (0.16), so we can only confidently say that about 16% of the variation in our dependent variable (Crash counts) is predicted by permit counts.\n",
    "\n",
    "If we interpret 16% of the variation to be accurate, this indicates that there are roughly 127 car crashes for every 10,000 alcohol permits in San Diego."
   ]
  },
  {
   "cell_type": "markdown",
   "metadata": {},
   "source": [
    "OLS Result 2: How well do permit counts predict arrest counts?\n",
    "-------------------\n",
    "Since our p-value obtained is very small (reads as 0.000) for the x column which represents permit counts, we see that our correlation is statistically significant. However, our R squared value is rather small (0.19), which means only about 19% of the variance in our dependent variable (arrest counts) is actually predicted accurately by our permit counts. Our coefficient of 0.0707 is statistically significant based on our small p-value, and if we only account for 19% of our data, we can approximate that there are roughly 7 arrests for every 100 alcohol permits in San Diego."
   ]
  },
  {
   "cell_type": "markdown",
   "metadata": {
    "collapsed": true
   },
   "source": [
    "Bar Chart Analysis\n",
    "------\n",
    "\n",
    "Red Chart: Arrest Counts vs. Increasing Population Counts\n",
    "----\n",
    "In the ordered bar chart we created comparing arrest counts to population counts, our data appears to be almost normally distributed. We guessed that higher density areas would have greater instances of arrests, but it turns out that this is not necessarily true. \n",
    "One possible explanation could be that higher density areas would correspond to downtown locations where businesses and drinking destinations are more densely packed, thus limiting the need to travel by car and preventing DUI's.\n",
    "\n",
    "This result could be biased as it may be more convenient for police officers to be posted in less dense areas, which is why arrest counts are higher.\n",
    "\n",
    "Yellow Chart: Crash Counts vs. Increasing Population Counts\n",
    "---\n",
    "In this ordered bar chart, we see that crash data is more uniformly distributed across diverse population counts, with a less defined peak in the middle than the red chart displaying arrest counts. Furthermore, in our data, crash counts do not exceed 6 in our 180 day timeframe while they peak at 32 for arrests."
   ]
  },
  {
   "cell_type": "markdown",
   "metadata": {},
   "source": [
    "# Conclusion"
   ]
  },
  {
   "cell_type": "markdown",
   "metadata": {
    "collapsed": true
   },
   "source": [
    "Our results show that the number of crashes compared to the number of arrests in a given grid square of San Diego is not at all a 1-1 ratio, disproving our initial hypothesis. There are significantly more arrests per capita compared to the number of crashes. The proportion returned by our line of best fit was 0.13, indicating roughly 13 crashes for every 100 arrests. \n",
    "\n",
    "From our analysis, we cannot say with confidence that the number of permits are accurate predictors of all arrests and crashes in a given San Diego location. The R squared values of our OLS regression tests were 20% or below, meaning only 20% of the variation in either arrests or crashes could be accurately predicted by the number of permits. \n",
    "\n",
    "What was most notable was our bar chart results, which showed the number of crashes across both low and high population counts remained somewhat consistent, while arrest counts peaked in mid-range population areas and lowered in low-density and high-density population areas. This could be a call to action for more DUI checkpoint stops in low and high population density locations."
   ]
  },
  {
   "cell_type": "code",
   "execution_count": null,
   "metadata": {
    "collapsed": true
   },
   "outputs": [],
   "source": []
  }
 ],
 "metadata": {
  "kernelspec": {
   "display_name": "Python 3",
   "language": "python",
   "name": "python3"
  },
  "language_info": {
   "codemirror_mode": {
    "name": "ipython",
    "version": 3
   },
   "file_extension": ".py",
   "mimetype": "text/x-python",
   "name": "python",
   "nbconvert_exporter": "python",
   "pygments_lexer": "ipython3",
   "version": "3.6.0"
  }
 },
 "nbformat": 4,
 "nbformat_minor": 2
}
