{
 "cells": [
  {
   "cell_type": "markdown",
   "metadata": {},
   "source": [
    "# COGS 108 - Final Project "
   ]
  },
  {
   "cell_type": "markdown",
   "metadata": {},
   "source": [
    "# Group Members\n",
    "\n",
    "- A91052905 Zijun Chen\n",
    "- A91084903 Wenjia Chen\n",
    "- A98064987 Fang Jung Chang\n",
    "- A91027719 Siru A\n",
    "- A92066748 Chenxin Tian"
   ]
  },
  {
   "cell_type": "code",
   "execution_count": 1,
   "metadata": {
    "collapsed": true
   },
   "outputs": [],
   "source": [
    "# Imports -  Import the packages that we need.\n",
    "%matplotlib inline\n",
    "\n",
    "import pandas as pd\n",
    "import numpy as np\n",
    "import matplotlib.pyplot as plt\n",
    "import patsy\n",
    "import statsmodels.api as sm\n",
    "from scipy.stats import ttest_ind\n",
    "import seaborn as sns\n"
   ]
  },
  {
   "cell_type": "markdown",
   "metadata": {},
   "source": [
    "## Setup\n",
    "\n",
    "Data: Accident Data(AccidentData.csv in this folder)\n",
    "- Link: https://drive.google.com/drive/folders/0B0VFVih5Y8NyQklZb0VMa1dLRFk?usp=sharing\n",
    "- There are 1741 observations, classified into seven features.\n",
    "\n",
    "Research Question: What is correlation between the death rate of car accidents in California and the number of lanes on roads, speed limit, and drunk drivers?\n",
    "\n",
    "Hypothesis: \n",
    "Car accidents with higher death rates were happened in areas with higher speed limit and less lanes, as well as with drunk drivers involved.\n",
    "\n",
    "Background: \n",
    "- According to many reports and news, unintentional injuries is listed as one of the top five leading causes of death in the U.S, and car accidents and road injury are considered as part of the unintentional injuries. We want to use this project as an opportunity to analyze the potential factors that cause the fatal car accidents, and more importantly, to better understand how we can prevent car accidents as well as improve awareness of the dangers of driving.\n",
    "- Driving at the driving speed limit is particularly important because the speed limit is to ensure the safety of the driver and the drivers around. Speed limits are designed not only for maximum speeds but also minimum speeds. Sometimes driving too slow is sometimes dangerous because it blocks and impedes the traffic. Having considered driving on the road with different speed limits, our group hypothesizes that driving in the areas with higher speed limits is more dangerous and more likely to cause car accidents. The hypothesis is inspired from a research done at Monash University in 1982. They studied the reaction time of drivers to road stimuli, and concluded that the average reaction time is less than 2.5 seconds. It means that within this 2.5 seconds, a driver is expected to read and process the road signs, recognize a stimuli, and then decide his behavior accordingly and appropriately. Based on this study, we believe that driving in higher speed limits road would cause more car accidents because driving fast requires more cognitive load such as attention, recognition, and problem solving. Psychologically, it is more stressful and challenging.\n",
    "- To explain the next hypothesis that fewer lanes are more likely to bring car accidents, we look into the benefits of lanes splitting. A study done at UC Berkeley in 2015 reported that lane-splitting is safe if done in traffic moving at 50 mph or less.\n",
    "We believe that more lanes allow drivers to have more space to avoid hitting a car, and to adjust driving speed and distance. Another reason is that more lanes usually mean separated lanes for trucks, buses, motorcyclists, bikes, or carpools. Designating different lanes for different sizes of car and types of transportation can avoid blind spots as well as speed differences between a large vehicle and a smaller motorcycle.\n",
    "\n",
    "References: \n",
    "- Leading Causes of Death: https://www.cdc.gov/nchs/fastats/leading-causes-of-death.htm\n",
    "- Study About Driver’s Reaction Time: Triggs, T. J., & Harris, W. G. (1962). and sub-title. Experimental Psychology, 64, 280-287. https://www.monash.edu/__data/assets/pdf_file/0003/217641/hfr12.pdf\n",
    "- Motorcycle Lane-splitting and Safety in California： Rice, T., Troszak, L., & Erhardt, T. (2015). Motorcycle Lane-splitting and Safety in California. http://www.ots.ca.gov/pdf/Publications/Motorcycle-Lane-Splitting-and-Safety-2015.pdf"
   ]
  },
  {
   "cell_type": "markdown",
   "metadata": {},
   "source": [
    "## Part 1: Load & Clean the Data\n",
    "- Since we are only studying the number of lanes on roads, speed limit, and number of drunk drivers involved in each accidents and their relationship with death rate accidents, we will drop the other columns of variables: number of vehicles involved in the crash (VE_TOTAL), and number of pedestrians involved in the crash (PEDS). \n",
    "- By cleaning our dataset in this way, we are able to better focus on the variables we are interested in.\n",
    "- Also, we need to calculate the death rate (D_RATE) by dividing the number of people dead in each accident (FATALS) by the total number people people involved in each accident (PERSONS)"
   ]
  },
  {
   "cell_type": "code",
   "execution_count": 2,
   "metadata": {
    "collapsed": false
   },
   "outputs": [],
   "source": [
    "# 1a) Import the data in the file 'AccidentData.csv' into a DataFrame, called 'df'.\n",
    "\n",
    "df = pd.read_csv('AccidentData.csv')\n",
    "#df"
   ]
  },
  {
   "cell_type": "code",
   "execution_count": 3,
   "metadata": {
    "collapsed": false
   },
   "outputs": [],
   "source": [
    "# 1b) drop the following columns of variables: \n",
    "# number of vehicles involved in the crash (VE_TOTAL)\n",
    "# number of pedestrians involved in the crash (PEDS).\n",
    "\n",
    "df = df.drop('VE_TOTAL', axis=1)\n",
    "df = df.drop('PEDS', axis=1)\n",
    "#df"
   ]
  },
  {
   "cell_type": "code",
   "execution_count": 4,
   "metadata": {
    "collapsed": false
   },
   "outputs": [
    {
     "data": {
      "text/html": [
       "<div>\n",
       "<table border=\"1\" class=\"dataframe\">\n",
       "  <thead>\n",
       "    <tr style=\"text-align: right;\">\n",
       "      <th></th>\n",
       "      <th>PERSONS</th>\n",
       "      <th>NO_LANES</th>\n",
       "      <th>SP_LIMIT</th>\n",
       "      <th>FATALS</th>\n",
       "      <th>DRUNK_DR</th>\n",
       "      <th>D_RATE</th>\n",
       "    </tr>\n",
       "  </thead>\n",
       "  <tbody>\n",
       "    <tr>\n",
       "      <th>0</th>\n",
       "      <td>2</td>\n",
       "      <td>3</td>\n",
       "      <td>0</td>\n",
       "      <td>1</td>\n",
       "      <td>0</td>\n",
       "      <td>0.500000</td>\n",
       "    </tr>\n",
       "    <tr>\n",
       "      <th>1</th>\n",
       "      <td>1</td>\n",
       "      <td>2</td>\n",
       "      <td>0</td>\n",
       "      <td>1</td>\n",
       "      <td>1</td>\n",
       "      <td>1.000000</td>\n",
       "    </tr>\n",
       "    <tr>\n",
       "      <th>2</th>\n",
       "      <td>3</td>\n",
       "      <td>2</td>\n",
       "      <td>0</td>\n",
       "      <td>1</td>\n",
       "      <td>0</td>\n",
       "      <td>0.333333</td>\n",
       "    </tr>\n",
       "    <tr>\n",
       "      <th>3</th>\n",
       "      <td>2</td>\n",
       "      <td>2</td>\n",
       "      <td>0</td>\n",
       "      <td>1</td>\n",
       "      <td>0</td>\n",
       "      <td>0.500000</td>\n",
       "    </tr>\n",
       "    <tr>\n",
       "      <th>4</th>\n",
       "      <td>6</td>\n",
       "      <td>2</td>\n",
       "      <td>0</td>\n",
       "      <td>3</td>\n",
       "      <td>0</td>\n",
       "      <td>0.500000</td>\n",
       "    </tr>\n",
       "    <tr>\n",
       "      <th>5</th>\n",
       "      <td>8</td>\n",
       "      <td>2</td>\n",
       "      <td>15</td>\n",
       "      <td>1</td>\n",
       "      <td>0</td>\n",
       "      <td>0.125000</td>\n",
       "    </tr>\n",
       "    <tr>\n",
       "      <th>6</th>\n",
       "      <td>2</td>\n",
       "      <td>2</td>\n",
       "      <td>15</td>\n",
       "      <td>1</td>\n",
       "      <td>1</td>\n",
       "      <td>0.500000</td>\n",
       "    </tr>\n",
       "    <tr>\n",
       "      <th>7</th>\n",
       "      <td>2</td>\n",
       "      <td>2</td>\n",
       "      <td>15</td>\n",
       "      <td>1</td>\n",
       "      <td>2</td>\n",
       "      <td>0.500000</td>\n",
       "    </tr>\n",
       "    <tr>\n",
       "      <th>8</th>\n",
       "      <td>1</td>\n",
       "      <td>2</td>\n",
       "      <td>20</td>\n",
       "      <td>1</td>\n",
       "      <td>1</td>\n",
       "      <td>1.000000</td>\n",
       "    </tr>\n",
       "    <tr>\n",
       "      <th>9</th>\n",
       "      <td>2</td>\n",
       "      <td>2</td>\n",
       "      <td>20</td>\n",
       "      <td>1</td>\n",
       "      <td>0</td>\n",
       "      <td>0.500000</td>\n",
       "    </tr>\n",
       "    <tr>\n",
       "      <th>10</th>\n",
       "      <td>4</td>\n",
       "      <td>2</td>\n",
       "      <td>20</td>\n",
       "      <td>1</td>\n",
       "      <td>0</td>\n",
       "      <td>0.250000</td>\n",
       "    </tr>\n",
       "    <tr>\n",
       "      <th>11</th>\n",
       "      <td>1</td>\n",
       "      <td>9</td>\n",
       "      <td>25</td>\n",
       "      <td>1</td>\n",
       "      <td>1</td>\n",
       "      <td>1.000000</td>\n",
       "    </tr>\n",
       "    <tr>\n",
       "      <th>12</th>\n",
       "      <td>3</td>\n",
       "      <td>6</td>\n",
       "      <td>25</td>\n",
       "      <td>1</td>\n",
       "      <td>0</td>\n",
       "      <td>0.333333</td>\n",
       "    </tr>\n",
       "    <tr>\n",
       "      <th>13</th>\n",
       "      <td>4</td>\n",
       "      <td>5</td>\n",
       "      <td>25</td>\n",
       "      <td>1</td>\n",
       "      <td>1</td>\n",
       "      <td>0.250000</td>\n",
       "    </tr>\n",
       "    <tr>\n",
       "      <th>14</th>\n",
       "      <td>6</td>\n",
       "      <td>4</td>\n",
       "      <td>25</td>\n",
       "      <td>1</td>\n",
       "      <td>1</td>\n",
       "      <td>0.166667</td>\n",
       "    </tr>\n",
       "    <tr>\n",
       "      <th>15</th>\n",
       "      <td>4</td>\n",
       "      <td>4</td>\n",
       "      <td>25</td>\n",
       "      <td>2</td>\n",
       "      <td>0</td>\n",
       "      <td>0.500000</td>\n",
       "    </tr>\n",
       "    <tr>\n",
       "      <th>16</th>\n",
       "      <td>2</td>\n",
       "      <td>4</td>\n",
       "      <td>25</td>\n",
       "      <td>1</td>\n",
       "      <td>0</td>\n",
       "      <td>0.500000</td>\n",
       "    </tr>\n",
       "    <tr>\n",
       "      <th>17</th>\n",
       "      <td>4</td>\n",
       "      <td>4</td>\n",
       "      <td>25</td>\n",
       "      <td>1</td>\n",
       "      <td>1</td>\n",
       "      <td>0.250000</td>\n",
       "    </tr>\n",
       "    <tr>\n",
       "      <th>18</th>\n",
       "      <td>2</td>\n",
       "      <td>4</td>\n",
       "      <td>25</td>\n",
       "      <td>1</td>\n",
       "      <td>0</td>\n",
       "      <td>0.500000</td>\n",
       "    </tr>\n",
       "    <tr>\n",
       "      <th>19</th>\n",
       "      <td>2</td>\n",
       "      <td>4</td>\n",
       "      <td>25</td>\n",
       "      <td>1</td>\n",
       "      <td>2</td>\n",
       "      <td>0.500000</td>\n",
       "    </tr>\n",
       "    <tr>\n",
       "      <th>20</th>\n",
       "      <td>6</td>\n",
       "      <td>4</td>\n",
       "      <td>25</td>\n",
       "      <td>1</td>\n",
       "      <td>0</td>\n",
       "      <td>0.166667</td>\n",
       "    </tr>\n",
       "    <tr>\n",
       "      <th>21</th>\n",
       "      <td>6</td>\n",
       "      <td>4</td>\n",
       "      <td>25</td>\n",
       "      <td>1</td>\n",
       "      <td>0</td>\n",
       "      <td>0.166667</td>\n",
       "    </tr>\n",
       "    <tr>\n",
       "      <th>22</th>\n",
       "      <td>7</td>\n",
       "      <td>4</td>\n",
       "      <td>25</td>\n",
       "      <td>1</td>\n",
       "      <td>0</td>\n",
       "      <td>0.142857</td>\n",
       "    </tr>\n",
       "    <tr>\n",
       "      <th>23</th>\n",
       "      <td>3</td>\n",
       "      <td>4</td>\n",
       "      <td>25</td>\n",
       "      <td>1</td>\n",
       "      <td>0</td>\n",
       "      <td>0.333333</td>\n",
       "    </tr>\n",
       "    <tr>\n",
       "      <th>24</th>\n",
       "      <td>2</td>\n",
       "      <td>4</td>\n",
       "      <td>25</td>\n",
       "      <td>1</td>\n",
       "      <td>0</td>\n",
       "      <td>0.500000</td>\n",
       "    </tr>\n",
       "    <tr>\n",
       "      <th>25</th>\n",
       "      <td>2</td>\n",
       "      <td>4</td>\n",
       "      <td>25</td>\n",
       "      <td>1</td>\n",
       "      <td>0</td>\n",
       "      <td>0.500000</td>\n",
       "    </tr>\n",
       "    <tr>\n",
       "      <th>26</th>\n",
       "      <td>2</td>\n",
       "      <td>4</td>\n",
       "      <td>25</td>\n",
       "      <td>1</td>\n",
       "      <td>0</td>\n",
       "      <td>0.500000</td>\n",
       "    </tr>\n",
       "    <tr>\n",
       "      <th>27</th>\n",
       "      <td>2</td>\n",
       "      <td>4</td>\n",
       "      <td>25</td>\n",
       "      <td>1</td>\n",
       "      <td>0</td>\n",
       "      <td>0.500000</td>\n",
       "    </tr>\n",
       "    <tr>\n",
       "      <th>28</th>\n",
       "      <td>3</td>\n",
       "      <td>4</td>\n",
       "      <td>25</td>\n",
       "      <td>1</td>\n",
       "      <td>3</td>\n",
       "      <td>0.333333</td>\n",
       "    </tr>\n",
       "    <tr>\n",
       "      <th>29</th>\n",
       "      <td>5</td>\n",
       "      <td>4</td>\n",
       "      <td>25</td>\n",
       "      <td>1</td>\n",
       "      <td>1</td>\n",
       "      <td>0.200000</td>\n",
       "    </tr>\n",
       "    <tr>\n",
       "      <th>...</th>\n",
       "      <td>...</td>\n",
       "      <td>...</td>\n",
       "      <td>...</td>\n",
       "      <td>...</td>\n",
       "      <td>...</td>\n",
       "      <td>...</td>\n",
       "    </tr>\n",
       "    <tr>\n",
       "      <th>1711</th>\n",
       "      <td>2</td>\n",
       "      <td>2</td>\n",
       "      <td>70</td>\n",
       "      <td>1</td>\n",
       "      <td>0</td>\n",
       "      <td>0.500000</td>\n",
       "    </tr>\n",
       "    <tr>\n",
       "      <th>1712</th>\n",
       "      <td>4</td>\n",
       "      <td>2</td>\n",
       "      <td>70</td>\n",
       "      <td>2</td>\n",
       "      <td>0</td>\n",
       "      <td>0.500000</td>\n",
       "    </tr>\n",
       "    <tr>\n",
       "      <th>1713</th>\n",
       "      <td>3</td>\n",
       "      <td>2</td>\n",
       "      <td>70</td>\n",
       "      <td>1</td>\n",
       "      <td>0</td>\n",
       "      <td>0.333333</td>\n",
       "    </tr>\n",
       "    <tr>\n",
       "      <th>1714</th>\n",
       "      <td>2</td>\n",
       "      <td>2</td>\n",
       "      <td>70</td>\n",
       "      <td>1</td>\n",
       "      <td>0</td>\n",
       "      <td>0.500000</td>\n",
       "    </tr>\n",
       "    <tr>\n",
       "      <th>1715</th>\n",
       "      <td>7</td>\n",
       "      <td>2</td>\n",
       "      <td>70</td>\n",
       "      <td>1</td>\n",
       "      <td>0</td>\n",
       "      <td>0.142857</td>\n",
       "    </tr>\n",
       "    <tr>\n",
       "      <th>1716</th>\n",
       "      <td>7</td>\n",
       "      <td>2</td>\n",
       "      <td>70</td>\n",
       "      <td>4</td>\n",
       "      <td>1</td>\n",
       "      <td>0.571429</td>\n",
       "    </tr>\n",
       "    <tr>\n",
       "      <th>1717</th>\n",
       "      <td>2</td>\n",
       "      <td>2</td>\n",
       "      <td>70</td>\n",
       "      <td>2</td>\n",
       "      <td>0</td>\n",
       "      <td>1.000000</td>\n",
       "    </tr>\n",
       "    <tr>\n",
       "      <th>1718</th>\n",
       "      <td>10</td>\n",
       "      <td>2</td>\n",
       "      <td>70</td>\n",
       "      <td>1</td>\n",
       "      <td>0</td>\n",
       "      <td>0.100000</td>\n",
       "    </tr>\n",
       "    <tr>\n",
       "      <th>1719</th>\n",
       "      <td>2</td>\n",
       "      <td>2</td>\n",
       "      <td>70</td>\n",
       "      <td>1</td>\n",
       "      <td>0</td>\n",
       "      <td>0.500000</td>\n",
       "    </tr>\n",
       "    <tr>\n",
       "      <th>1720</th>\n",
       "      <td>1</td>\n",
       "      <td>2</td>\n",
       "      <td>70</td>\n",
       "      <td>1</td>\n",
       "      <td>0</td>\n",
       "      <td>1.000000</td>\n",
       "    </tr>\n",
       "    <tr>\n",
       "      <th>1721</th>\n",
       "      <td>4</td>\n",
       "      <td>2</td>\n",
       "      <td>70</td>\n",
       "      <td>1</td>\n",
       "      <td>0</td>\n",
       "      <td>0.250000</td>\n",
       "    </tr>\n",
       "    <tr>\n",
       "      <th>1722</th>\n",
       "      <td>4</td>\n",
       "      <td>2</td>\n",
       "      <td>70</td>\n",
       "      <td>3</td>\n",
       "      <td>0</td>\n",
       "      <td>0.750000</td>\n",
       "    </tr>\n",
       "    <tr>\n",
       "      <th>1723</th>\n",
       "      <td>4</td>\n",
       "      <td>2</td>\n",
       "      <td>70</td>\n",
       "      <td>1</td>\n",
       "      <td>0</td>\n",
       "      <td>0.250000</td>\n",
       "    </tr>\n",
       "    <tr>\n",
       "      <th>1724</th>\n",
       "      <td>1</td>\n",
       "      <td>2</td>\n",
       "      <td>70</td>\n",
       "      <td>1</td>\n",
       "      <td>1</td>\n",
       "      <td>1.000000</td>\n",
       "    </tr>\n",
       "    <tr>\n",
       "      <th>1725</th>\n",
       "      <td>3</td>\n",
       "      <td>2</td>\n",
       "      <td>70</td>\n",
       "      <td>1</td>\n",
       "      <td>0</td>\n",
       "      <td>0.333333</td>\n",
       "    </tr>\n",
       "    <tr>\n",
       "      <th>1726</th>\n",
       "      <td>1</td>\n",
       "      <td>2</td>\n",
       "      <td>70</td>\n",
       "      <td>1</td>\n",
       "      <td>0</td>\n",
       "      <td>1.000000</td>\n",
       "    </tr>\n",
       "    <tr>\n",
       "      <th>1727</th>\n",
       "      <td>2</td>\n",
       "      <td>2</td>\n",
       "      <td>70</td>\n",
       "      <td>1</td>\n",
       "      <td>0</td>\n",
       "      <td>0.500000</td>\n",
       "    </tr>\n",
       "    <tr>\n",
       "      <th>1728</th>\n",
       "      <td>9</td>\n",
       "      <td>2</td>\n",
       "      <td>70</td>\n",
       "      <td>2</td>\n",
       "      <td>0</td>\n",
       "      <td>0.222222</td>\n",
       "    </tr>\n",
       "    <tr>\n",
       "      <th>1729</th>\n",
       "      <td>1</td>\n",
       "      <td>2</td>\n",
       "      <td>70</td>\n",
       "      <td>1</td>\n",
       "      <td>0</td>\n",
       "      <td>1.000000</td>\n",
       "    </tr>\n",
       "    <tr>\n",
       "      <th>1730</th>\n",
       "      <td>25</td>\n",
       "      <td>2</td>\n",
       "      <td>70</td>\n",
       "      <td>2</td>\n",
       "      <td>0</td>\n",
       "      <td>0.080000</td>\n",
       "    </tr>\n",
       "    <tr>\n",
       "      <th>1731</th>\n",
       "      <td>1</td>\n",
       "      <td>2</td>\n",
       "      <td>70</td>\n",
       "      <td>1</td>\n",
       "      <td>0</td>\n",
       "      <td>1.000000</td>\n",
       "    </tr>\n",
       "    <tr>\n",
       "      <th>1732</th>\n",
       "      <td>1</td>\n",
       "      <td>2</td>\n",
       "      <td>70</td>\n",
       "      <td>1</td>\n",
       "      <td>0</td>\n",
       "      <td>1.000000</td>\n",
       "    </tr>\n",
       "    <tr>\n",
       "      <th>1733</th>\n",
       "      <td>3</td>\n",
       "      <td>2</td>\n",
       "      <td>70</td>\n",
       "      <td>1</td>\n",
       "      <td>0</td>\n",
       "      <td>0.333333</td>\n",
       "    </tr>\n",
       "    <tr>\n",
       "      <th>1734</th>\n",
       "      <td>6</td>\n",
       "      <td>2</td>\n",
       "      <td>70</td>\n",
       "      <td>3</td>\n",
       "      <td>2</td>\n",
       "      <td>0.500000</td>\n",
       "    </tr>\n",
       "    <tr>\n",
       "      <th>1735</th>\n",
       "      <td>1</td>\n",
       "      <td>2</td>\n",
       "      <td>70</td>\n",
       "      <td>1</td>\n",
       "      <td>0</td>\n",
       "      <td>1.000000</td>\n",
       "    </tr>\n",
       "    <tr>\n",
       "      <th>1736</th>\n",
       "      <td>8</td>\n",
       "      <td>2</td>\n",
       "      <td>70</td>\n",
       "      <td>1</td>\n",
       "      <td>0</td>\n",
       "      <td>0.125000</td>\n",
       "    </tr>\n",
       "    <tr>\n",
       "      <th>1737</th>\n",
       "      <td>2</td>\n",
       "      <td>2</td>\n",
       "      <td>70</td>\n",
       "      <td>1</td>\n",
       "      <td>2</td>\n",
       "      <td>0.500000</td>\n",
       "    </tr>\n",
       "    <tr>\n",
       "      <th>1738</th>\n",
       "      <td>5</td>\n",
       "      <td>2</td>\n",
       "      <td>70</td>\n",
       "      <td>1</td>\n",
       "      <td>0</td>\n",
       "      <td>0.200000</td>\n",
       "    </tr>\n",
       "    <tr>\n",
       "      <th>1739</th>\n",
       "      <td>2</td>\n",
       "      <td>2</td>\n",
       "      <td>70</td>\n",
       "      <td>1</td>\n",
       "      <td>0</td>\n",
       "      <td>0.500000</td>\n",
       "    </tr>\n",
       "    <tr>\n",
       "      <th>1740</th>\n",
       "      <td>1</td>\n",
       "      <td>2</td>\n",
       "      <td>70</td>\n",
       "      <td>1</td>\n",
       "      <td>1</td>\n",
       "      <td>1.000000</td>\n",
       "    </tr>\n",
       "  </tbody>\n",
       "</table>\n",
       "<p>1741 rows × 6 columns</p>\n",
       "</div>"
      ],
      "text/plain": [
       "      PERSONS  NO_LANES  SP_LIMIT  FATALS  DRUNK_DR    D_RATE\n",
       "0           2         3         0       1         0  0.500000\n",
       "1           1         2         0       1         1  1.000000\n",
       "2           3         2         0       1         0  0.333333\n",
       "3           2         2         0       1         0  0.500000\n",
       "4           6         2         0       3         0  0.500000\n",
       "5           8         2        15       1         0  0.125000\n",
       "6           2         2        15       1         1  0.500000\n",
       "7           2         2        15       1         2  0.500000\n",
       "8           1         2        20       1         1  1.000000\n",
       "9           2         2        20       1         0  0.500000\n",
       "10          4         2        20       1         0  0.250000\n",
       "11          1         9        25       1         1  1.000000\n",
       "12          3         6        25       1         0  0.333333\n",
       "13          4         5        25       1         1  0.250000\n",
       "14          6         4        25       1         1  0.166667\n",
       "15          4         4        25       2         0  0.500000\n",
       "16          2         4        25       1         0  0.500000\n",
       "17          4         4        25       1         1  0.250000\n",
       "18          2         4        25       1         0  0.500000\n",
       "19          2         4        25       1         2  0.500000\n",
       "20          6         4        25       1         0  0.166667\n",
       "21          6         4        25       1         0  0.166667\n",
       "22          7         4        25       1         0  0.142857\n",
       "23          3         4        25       1         0  0.333333\n",
       "24          2         4        25       1         0  0.500000\n",
       "25          2         4        25       1         0  0.500000\n",
       "26          2         4        25       1         0  0.500000\n",
       "27          2         4        25       1         0  0.500000\n",
       "28          3         4        25       1         3  0.333333\n",
       "29          5         4        25       1         1  0.200000\n",
       "...       ...       ...       ...     ...       ...       ...\n",
       "1711        2         2        70       1         0  0.500000\n",
       "1712        4         2        70       2         0  0.500000\n",
       "1713        3         2        70       1         0  0.333333\n",
       "1714        2         2        70       1         0  0.500000\n",
       "1715        7         2        70       1         0  0.142857\n",
       "1716        7         2        70       4         1  0.571429\n",
       "1717        2         2        70       2         0  1.000000\n",
       "1718       10         2        70       1         0  0.100000\n",
       "1719        2         2        70       1         0  0.500000\n",
       "1720        1         2        70       1         0  1.000000\n",
       "1721        4         2        70       1         0  0.250000\n",
       "1722        4         2        70       3         0  0.750000\n",
       "1723        4         2        70       1         0  0.250000\n",
       "1724        1         2        70       1         1  1.000000\n",
       "1725        3         2        70       1         0  0.333333\n",
       "1726        1         2        70       1         0  1.000000\n",
       "1727        2         2        70       1         0  0.500000\n",
       "1728        9         2        70       2         0  0.222222\n",
       "1729        1         2        70       1         0  1.000000\n",
       "1730       25         2        70       2         0  0.080000\n",
       "1731        1         2        70       1         0  1.000000\n",
       "1732        1         2        70       1         0  1.000000\n",
       "1733        3         2        70       1         0  0.333333\n",
       "1734        6         2        70       3         2  0.500000\n",
       "1735        1         2        70       1         0  1.000000\n",
       "1736        8         2        70       1         0  0.125000\n",
       "1737        2         2        70       1         2  0.500000\n",
       "1738        5         2        70       1         0  0.200000\n",
       "1739        2         2        70       1         0  0.500000\n",
       "1740        1         2        70       1         1  1.000000\n",
       "\n",
       "[1741 rows x 6 columns]"
      ]
     },
     "execution_count": 4,
     "metadata": {},
     "output_type": "execute_result"
    }
   ],
   "source": [
    "# 1c) Calculate the death rate in each car accidents by dividing 'Fatals' with 'Persons'\n",
    "# add the data into a new column, called 'D_RATE' in df\n",
    "\n",
    "D_RATE = df['FATALS']/(df['PERSONS'])\n",
    "df['D_RATE'] = D_RATE\n",
    "df"
   ]
  },
  {
   "cell_type": "markdown",
   "metadata": {},
   "source": [
    "## Part 2: Data Vizualization"
   ]
  },
  {
   "cell_type": "markdown",
   "metadata": {},
   "source": [
    "Below are the data visualizations about number of lanes invloved in car accidents"
   ]
  },
  {
   "cell_type": "code",
   "execution_count": 5,
   "metadata": {
    "collapsed": false
   },
   "outputs": [
    {
     "data": {
      "image/png": "[encoded data removed]",
      "text/plain": [
       "<matplotlib.figure.Figure at 0x1115d0dd8>"
      ]
     },
     "metadata": {},
     "output_type": "display_data"
    }
   ],
   "source": [
    "# 2a1) Plot a bar graph showing the number of lanes in each car accidents.\n",
    "# Use 'value_counts' to get the counts for number of lanes.\n",
    "# Save the plot as 'no_lanes'\n",
    "\n",
    "lanes_nu = df['NO_LANES']\n",
    "lanes_number = lanes_nu.value_counts(normalize=False, sort=False, ascending=False, bins=None, dropna=True)\n",
    "no_lanes = lanes_number.plot.bar(x=\"number of lanes\", y=\"frequency\",facecolor='green')\n",
    "plt.title('Frequency of Number of Lanes in Car Accidents')\n",
    "plt.xlabel('Number of Lanes')\n",
    "plt.ylabel('Frequency')\n",
    "\n",
    "no_lanes = plt.gcf()"
   ]
  },
  {
   "cell_type": "code",
   "execution_count": 6,
   "metadata": {
    "collapsed": false
   },
   "outputs": [
    {
     "data": {
      "image/png": "[encoded data removed]",
      "text/plain": [
       "<matplotlib.figure.Figure at 0x11f212748>"
      ]
     },
     "metadata": {},
     "output_type": "display_data"
    }
   ],
   "source": [
    "# 2a2) draw a scatter plot to see the general trend associated and \n",
    "# whether there is a possible linear or nonlinear relationship between \n",
    "# the number of lanes on roads and the death rate.\n",
    "\n",
    "#If the distribution of data is not significant for viewing, use a log transform to transform the data and then plot\n",
    "\n",
    "f, ax = plt.subplots()\n",
    "ax.plot(lanes_nu, D_RATE, '.')\n",
    "plt.xlabel('Number of Lanes'); plt.xlim([1, 9]);\n",
    "plt.ylabel('Death Rate of the Accident'); plt.ylim([0, 1]);\n"
   ]
  },
  {
   "cell_type": "markdown",
   "metadata": {},
   "source": [
    "Below are the data visualizations about speed limits in car accidents"
   ]
  },
  {
   "cell_type": "code",
   "execution_count": 7,
   "metadata": {
    "collapsed": false
   },
   "outputs": [
    {
     "data": {
      "image/png": "[encoded data removed]",
      "text/plain": [
       "<matplotlib.figure.Figure at 0x11f291438>"
      ]
     },
     "metadata": {},
     "output_type": "display_data"
    }
   ],
   "source": [
    "# 2b1) Plot a bar graph showing the speed limit in each car accidents.\n",
    "# Use 'value_counts' to get the counts for speed limits.\n",
    "# Save the plot as 'sp_limit'\n",
    "\n",
    "\n",
    "splm = df['SP_LIMIT'].value_counts(normalize=False, sort=False, ascending=False, bins=None, dropna=True)\n",
    "sp_limit = splm.plot.bar(facecolor='orange')\n",
    "#sp_limit2 = plt.hist(df['SP_LIMIT'], facecolor = 'orange')\n",
    "plt.title('Counts for Speed Limit in Car Accidents')\n",
    "plt.xlabel('Speed Limit')\n",
    "plt.ylabel('Number of Accidents')\n",
    "sp_limit = plt.gcf()\n"
   ]
  },
  {
   "cell_type": "code",
   "execution_count": 8,
   "metadata": {
    "collapsed": false
   },
   "outputs": [
    {
     "data": {
      "text/plain": [
       "[<matplotlib.lines.Line2D at 0x11f665fd0>]"
      ]
     },
     "execution_count": 8,
     "metadata": {},
     "output_type": "execute_result"
    },
    {
     "data": {
      "image/png": "[encoded data removed]",
      "text/plain": [
       "<matplotlib.figure.Figure at 0x11f549048>"
      ]
     },
     "metadata": {},
     "output_type": "display_data"
    }
   ],
   "source": [
    "# 2b2) draw a scatter plot to see the general trend associated and \n",
    "# whether there is a possible linear or nonlinear relationship between \n",
    "# speed limits on roads and the death rate.\n",
    "\n",
    "x = df['SP_LIMIT']\n",
    "y = df['D_RATE']\n",
    "plt.scatter(x,y, facecolor = 'orange')\n",
    "\n",
    "axes = plt.gca()\n",
    "m, b = np.polyfit(x, y, 1)\n",
    "X_plot = np.linspace(axes.get_xlim()[0],axes.get_xlim()[1],100)\n",
    "plt.plot(X_plot, m*X_plot + b, '-')\n"
   ]
  },
  {
   "cell_type": "markdown",
   "metadata": {},
   "source": [
    "Below are the data visualizations about number of drunk drives invloved in car accidents"
   ]
  },
  {
   "cell_type": "code",
   "execution_count": 9,
   "metadata": {
    "collapsed": false
   },
   "outputs": [
    {
     "data": {
      "image/png": "[encoded data removed]",
      "text/plain": [
       "<matplotlib.figure.Figure at 0x11f195f98>"
      ]
     },
     "metadata": {},
     "output_type": "display_data"
    }
   ],
   "source": [
    "# 2c1) Plot a bar graph showing the number of drunk drivers in each car accidents.\n",
    "# Use 'value_counts' to get the counts for each number of drunk drivers.\n",
    "# Save the plot as 'no_Ddriver'\n",
    "\n",
    "drunk_nu = df['DRUNK_DR']\n",
    "drunk_number = drunk_nu.value_counts(normalize=False, sort=False, ascending=False, bins=None, dropna=True)\n",
    "no_Ddriver = drunk_number.plot.bar(x=\"drunk#\", y=\"frequency\", facecolor = 'purple')\n",
    "plt.title('Counts for Number of Drunk Drivers in Car Accidents')\n",
    "plt.xlabel('Number of Drunk Drives Involved')\n",
    "plt.ylabel('Count')\n",
    "no_Ddriver = plt.gcf()"
   ]
  },
  {
   "cell_type": "code",
   "execution_count": 10,
   "metadata": {
    "collapsed": false
   },
   "outputs": [
    {
     "data": {
      "image/png": "[encoded data removed]",
      "text/plain": [
       "<matplotlib.figure.Figure at 0x11f2a35f8>"
      ]
     },
     "metadata": {},
     "output_type": "display_data"
    }
   ],
   "source": [
    "# 2c2) draw a scatter plot to see the general trend associated and \n",
    "# whether there is a possible linear or nonlinear relationship between \n",
    "# the number of drunk drivers involved and the death rate.\n",
    "\n",
    "#x:number of drunk driver, y:death rate\n",
    "f, ax = plt.subplots()\n",
    "ax.plot(drunk_nu, D_RATE, '.')\n",
    "plt.xlabel('Number of Drunk Driver'); plt.xlim([-1, 6]);\n",
    "plt.ylabel('Death Rate of the Accident'); plt.ylim([0, 1]);\n"
   ]
  },
  {
   "cell_type": "markdown",
   "metadata": {},
   "source": [
    "Find out correlations between the three factors"
   ]
  },
  {
   "cell_type": "code",
   "execution_count": 11,
   "metadata": {
    "collapsed": false
   },
   "outputs": [
    {
     "data": {
      "image/png": "[encoded data removed]",
      "text/plain": [
       "<matplotlib.figure.Figure at 0x11f951550>"
      ]
     },
     "metadata": {},
     "output_type": "display_data"
    },
    {
     "data": {
      "image/png": "[encoded data removed]",
      "text/plain": [
       "<matplotlib.figure.Figure at 0x12074fb00>"
      ]
     },
     "metadata": {},
     "output_type": "display_data"
    }
   ],
   "source": [
    "# 2d1) Use scatter_matrix() function from the panda to make a matrix scatterplot,\n",
    "# see whether correlation exists among the number of lanes on roads, speed limit, \n",
    "# and number of drunk drivers involved in each accidents.\n",
    "\n",
    "fig = pd.scatter_matrix(df,figsize=(8, 8),hist_kwds={'color':['#eea4a9']}) # The scatterplot of all variables.\n",
    "df3 = df.drop('PERSONS', axis=1)\n",
    "df3 = df3.drop('D_RATE', axis=1)\n",
    "df3 = df3.drop('FATALS', axis=1)\n",
    "fig2 = pd.scatter_matrix(df3,figsize=(8, 8),c='#eea4a9',diagonal='kde') # The scatterplot of only three variables (number of lanes, speed limit, and number of drunk drivers)\n",
    "\n"
   ]
  },
  {
   "cell_type": "code",
   "execution_count": 12,
   "metadata": {
    "collapsed": false
   },
   "outputs": [
    {
     "name": "stdout",
     "output_type": "stream",
     "text": [
      "           PERSONS  NO_LANES  SP_LIMIT    FATALS  DRUNK_DR    D_RATE\n",
      "PERSONS   1.000000  0.066031  0.101528  0.292680  0.000820 -0.683246\n",
      "NO_LANES  0.066031  1.000000  0.047837 -0.024762  0.039962 -0.102676\n",
      "SP_LIMIT  0.101528  0.047837  1.000000  0.072557 -0.005587  0.016307\n",
      "FATALS    0.292680 -0.024762  0.072557  1.000000  0.088566  0.048483\n",
      "DRUNK_DR  0.000820  0.039962 -0.005587  0.088566  1.000000  0.016468\n",
      "D_RATE   -0.683246 -0.102676  0.016307  0.048483  0.016468  1.000000\n",
      "          NO_LANES  SP_LIMIT\n",
      "NO_LANES  1.000000  0.047837\n",
      "SP_LIMIT  0.047837  1.000000\n",
      "          NO_LANES  DRUNK_DR\n",
      "NO_LANES  1.000000  0.039962\n",
      "DRUNK_DR  0.039962  1.000000\n",
      "          SP_LIMIT  DRUNK_DR\n",
      "SP_LIMIT  1.000000 -0.005587\n",
      "DRUNK_DR -0.005587  1.000000\n"
     ]
    }
   ],
   "source": [
    "#2d1) Use the pandas.DataFrame method corr() to calculate \n",
    "# a correlation matrix that shows the correlation coefficient for each pair of variables. \n",
    "\n",
    "corr = df.corr()\n",
    "print(corr) #this prints out all the Pearson's correlation coefficient for each columns.\n",
    "corr_ls = df[['NO_LANES','SP_LIMIT']].corr()\n",
    "print (corr_ls) \n",
    "#this prints out the Pearson's correlation coefficient between number of lanes and speed limit.\n",
    "corr_ld = df[['NO_LANES','DRUNK_DR']].corr()\n",
    "print (corr_ld) \n",
    "#this prints out the Pearson's correlation coefficient between number of lanes and number of drunk drivers.\n",
    "corr_sd = df[['SP_LIMIT','DRUNK_DR']].corr()\n",
    "print (corr_sd) \n",
    "#this prints out the Pearson's correlation coefficient between speed limit and number of drunk drivers."
   ]
  },
  {
   "cell_type": "code",
   "execution_count": 13,
   "metadata": {
    "collapsed": false
   },
   "outputs": [
    {
     "data": {
      "text/plain": [
       "<matplotlib.axes._subplots.AxesSubplot at 0x120f4a518>"
      ]
     },
     "execution_count": 13,
     "metadata": {},
     "output_type": "execute_result"
    },
    {
     "data": {
      "image/png": "[encoded data removed]",
      "text/plain": [
       "<matplotlib.figure.Figure at 0x12089aa90>"
      ]
     },
     "metadata": {},
     "output_type": "display_data"
    }
   ],
   "source": [
    "# A heatmap describing the strength of the correlations between each pair of variables.\n",
    "\n",
    "# Generate a mask for the upper triangle\n",
    "mask = np.zeros_like(corr, dtype=np.bool)\n",
    "mask[np.triu_indices_from(mask)] = True\n",
    "\n",
    "# Set up the matplotlib figure\n",
    "f, ax = plt.subplots(figsize=(8, 8))\n",
    "\n",
    "# Generate a custom diverging colormap\n",
    "cmap = sns.diverging_palette(220, 10, as_cmap=True)\n",
    "\n",
    "# Draw the heatmap with the mask and correct aspect ratio\n",
    "sns.heatmap(corr, mask=mask, cmap=cmap, vmax=.65,\n",
    "            square=True,linewidths=.5, cbar_kws={\"shrink\": .7}, ax=ax)"
   ]
  },
  {
   "cell_type": "markdown",
   "metadata": {},
   "source": [
    "## Part 3: Data Analysis "
   ]
  },
  {
   "cell_type": "markdown",
   "metadata": {},
   "source": [
    "Below are the means, medians, and modes of each factors involoved in car accidents"
   ]
  },
  {
   "cell_type": "code",
   "execution_count": 14,
   "metadata": {
    "collapsed": false
   },
   "outputs": [
    {
     "name": "stdout",
     "output_type": "stream",
     "text": [
      "Average number of lanes involved: 2.84606547960942\n",
      "Median number of lanes involved: 2.0\n",
      "Mode number of lanes involved: 0    2\n",
      "dtype: int64\n",
      "The frequency of mode is: 1033\n"
     ]
    }
   ],
   "source": [
    "# 3a) Find out the mean, median, and mode of the number of lanes involved in all car accidents\n",
    "# save the value as 'meanL','medianL','modeL'\n",
    "meanL = df['NO_LANES'].mean()\n",
    "medianL = df['NO_LANES'].median()\n",
    "modeL = df['NO_LANES'].mode()\n",
    "mode_num = df['NO_LANES'].value_counts()\n",
    "n_mode = mode_num.max()\n",
    "\n",
    "print('Average number of lanes involved:', meanL)\n",
    "print('Median number of lanes involved:', medianL)\n",
    "print('Mode number of lanes involved:', modeL)\n",
    "print('The frequency of mode is:', n_mode)"
   ]
  },
  {
   "cell_type": "code",
   "execution_count": 15,
   "metadata": {
    "collapsed": false
   },
   "outputs": [
    {
     "name": "stdout",
     "output_type": "stream",
     "text": [
      "Average speed limit: \t 49.4399770247\n",
      "Median number of speed limit: \t 55.0\n",
      "Mode number of speed limit: \t 0    55\n",
      "dtype: int64\n",
      "The frequency of mode is: \t 482\n",
      "28.3744974153 % of accidents were happened under 55 - 60 mhp speed limit: 494\n",
      "25.4451464675 % of accidents were happened under 65 - 70 mhp speed limit: 443\n"
     ]
    }
   ],
   "source": [
    "# 3b) Find out the mean, median, and mode of the speed limit involved in all car accidents\n",
    "# save the value as 'meanSP','medianSP','modeSP'\n",
    "\n",
    "meanSP = df['SP_LIMIT'].describe()[1]\n",
    "medianSP = df['SP_LIMIT'].describe()[5]\n",
    "modeSP = df['SP_LIMIT'].mode()\n",
    "mode_num = df['SP_LIMIT'].value_counts()\n",
    "#print(mode_num)\n",
    "n_mode = mode_num.max()\n",
    "n_5560 = mode_num[55] + mode_num[60]\n",
    "n_6570 = mode_num[65] + mode_num[70]\n",
    "\n",
    "p_5560 = 100*(n_5560/len(df))\n",
    "p_6570 = 100*(n_6570/len(df))\n",
    "print('Average speed limit: \\t', meanSP)\n",
    "print('Median number of speed limit: \\t', medianSP)\n",
    "print('Mode number of speed limit: \\t', modeSP)\n",
    "print('The frequency of mode is: \\t', n_mode)\n",
    "\n",
    "print(p_5560,'% of accidents were happened under 55 - 60 mhp speed limit:', n_5560)\n",
    "print(p_6570,'% of accidents were happened under 65 - 70 mhp speed limit:', n_6570)"
   ]
  },
  {
   "cell_type": "code",
   "execution_count": 16,
   "metadata": {
    "collapsed": false
   },
   "outputs": [
    {
     "name": "stdout",
     "output_type": "stream",
     "text": [
      "Average number of drunk drivers: \t 0.460654796094\n",
      "Median number of drunk drivers: \t 0.0\n",
      "Mode number of drunk drivers: \t 0    0\n",
      "dtype: int64\n",
      "Number of car accidents with drunk drivers involved: \t 682\n",
      "Percentage of car accidents with drunk drivers involved: \t 39.1728891442\n"
     ]
    }
   ],
   "source": [
    "# 3c) Use describe() method to find out the mean, median, and mode of the number of drunk driver involved in all car accidents\n",
    "# save the value as 'meanD','medianD','modeD'\n",
    "\n",
    "meanD = df['DRUNK_DR'].describe()[1]\n",
    "medianD = df['DRUNK_DR'].describe()[5]\n",
    "modeD = df['DRUNK_DR'].mode()\n",
    "mode_num = df['DRUNK_DR'].value_counts()\n",
    "n_drunk = len(df) - mode_num[0]\n",
    "p_drunk = 100*(n_drunk/len(df))\n",
    "\n",
    "print('Average number of drunk drivers: \\t', meanD)\n",
    "print('Median number of drunk drivers: \\t', medianD)\n",
    "print('Mode number of drunk drivers: \\t', modeD)\n",
    "print('Number of car accidents with drunk drivers involved: \\t', n_drunk)\n",
    "print('Percentage of car accidents with drunk drivers involved: \\t', p_drunk)"
   ]
  },
  {
   "cell_type": "markdown",
   "metadata": {},
   "source": [
    "Below is the linear model analysis for 'number of lanes' and 'death rate'"
   ]
  },
  {
   "cell_type": "code",
   "execution_count": 17,
   "metadata": {
    "collapsed": false
   },
   "outputs": [],
   "source": [
    "# 3d1) Create a new dataframe, called 'df1', which only includes data from 'NO_LANES' and 'D_RATE' column.\n",
    "\n",
    "#df1 = pd.read_csv('AccidentData.csv')\n",
    "#df1 = df1.drop('PERSONS', axis=1)\n",
    "#df1 = df1.drop('SP_LIMIT', axis=1)\n",
    "#df1 = df1.drop('DRUNK_DR', axis=1)\n",
    "#df1 = df1.drop('VE_TOTAL', axis=1)\n",
    "#df1 = df1.drop('PEDS', axis=1)\n",
    "df1 = df\n",
    "df1 = df1.drop(['PERSONS','SP_LIMIT','DRUNK_DR','FATALS'],axis=1)\n",
    "#df1"
   ]
  },
  {
   "cell_type": "code",
   "execution_count": 18,
   "metadata": {
    "collapsed": false
   },
   "outputs": [],
   "source": [
    "# 3d2) Create a linear model to predict death rate from number of lanes (using df1 as data).\n",
    "#  Use patsy.dmatrices to create the design matrices, calling the outputs 'outcome_1', 'predictors_1'\n",
    "#  Create an OLS model (sm.OLS) using 'outcome_1' and 'predictors_1'. Call it 'mod_1'.\n",
    "#  Fit the model, assigning it to 'res_1'\n",
    "\n",
    "outcome_1, predictors_1 = patsy.dmatrices('D_RATE ~ NO_LANES', df1)\n",
    "mod_1 = sm.OLS(outcome_1, predictors_1)\n",
    "res_1 = mod_1.fit()"
   ]
  },
  {
   "cell_type": "code",
   "execution_count": 19,
   "metadata": {
    "collapsed": false
   },
   "outputs": [
    {
     "name": "stdout",
     "output_type": "stream",
     "text": [
      "                            OLS Regression Results                            \n",
      "==============================================================================\n",
      "Dep. Variable:                 D_RATE   R-squared:                       0.011\n",
      "Model:                            OLS   Adj. R-squared:                  0.010\n",
      "Method:                 Least Squares   F-statistic:                     18.53\n",
      "Date:                Tue, 13 Jun 2017   Prob (F-statistic):           1.77e-05\n",
      "Time:                        19:32:55   Log-Likelihood:                -284.74\n",
      "No. Observations:                1741   AIC:                             573.5\n",
      "Df Residuals:                    1739   BIC:                             584.4\n",
      "Df Model:                           1                                         \n",
      "Covariance Type:            nonrobust                                         \n",
      "==============================================================================\n",
      "                 coef    std err          t      P>|t|      [95.0% Conf. Int.]\n",
      "------------------------------------------------------------------------------\n",
      "Intercept      0.6066      0.016     37.974      0.000         0.575     0.638\n",
      "NO_LANES      -0.0218      0.005     -4.304      0.000        -0.032    -0.012\n",
      "==============================================================================\n",
      "Omnibus:                      353.206   Durbin-Watson:                   1.965\n",
      "Prob(Omnibus):                  0.000   Jarque-Bera (JB):              159.441\n",
      "Skew:                           0.577   Prob(JB):                     2.39e-35\n",
      "Kurtosis:                       2.070   Cond. No.                         7.98\n",
      "==============================================================================\n",
      "\n",
      "Warnings:\n",
      "[1] Standard Errors assume that the covariance matrix of the errors is correctly specified.\n"
     ]
    }
   ],
   "source": [
    "# Print out the summary results of the model fitting\n",
    "print(res_1.summary())"
   ]
  },
  {
   "cell_type": "code",
   "execution_count": 20,
   "metadata": {
    "collapsed": true
   },
   "outputs": [],
   "source": [
    "#3d3)\n",
    "#- Based on the model we ran above (using alpha value of 0.05), p = 0.000, \n",
    "#  which is smaller than 0.05. Therefore, the number of lanes can significantly predict death rate.\n"
   ]
  },
  {
   "cell_type": "markdown",
   "metadata": {},
   "source": [
    "Below is the linear model analysis for 'speed limit' and 'death rate'"
   ]
  },
  {
   "cell_type": "code",
   "execution_count": 21,
   "metadata": {
    "collapsed": false
   },
   "outputs": [],
   "source": [
    "# 3e1) Create a new dataframe, called 'df2', which only includes data from 'SP_LIMIT' and 'D_RATE column.\n",
    "\n",
    "df2 = df\n",
    "df2 = df2.drop(['PERSONS','NO_LANES','DRUNK_DR','FATALS'],axis=1)\n",
    "#df2"
   ]
  },
  {
   "cell_type": "code",
   "execution_count": 22,
   "metadata": {
    "collapsed": false
   },
   "outputs": [],
   "source": [
    "# 3e2) Create a linear model to predict death rate from speed limit (using df2 as data).\n",
    "#  Use patsy.dmatrices to create the design matrices, calling the outputs 'outcome_2', 'predictors_2'\n",
    "#  Create an OLS model (sm.OLS) using 'outcome_2' and 'predictors_2'. Call it 'mod_2'.\n",
    "#  Fit the model, assigning it to 'res_2'\n",
    "\n",
    "outcome_2, predictors_2= patsy.dmatrices('D_RATE ~ SP_LIMIT', data = df2)\n",
    "mod_2 = sm.OLS(outcome_2, predictors_2)\n",
    "res_2 = mod_2.fit()"
   ]
  },
  {
   "cell_type": "code",
   "execution_count": 23,
   "metadata": {
    "collapsed": false
   },
   "outputs": [
    {
     "name": "stdout",
     "output_type": "stream",
     "text": [
      "                            OLS Regression Results                            \n",
      "==============================================================================\n",
      "Dep. Variable:                 D_RATE   R-squared:                       0.000\n",
      "Model:                            OLS   Adj. R-squared:                 -0.000\n",
      "Method:                 Least Squares   F-statistic:                    0.4625\n",
      "Date:                Tue, 13 Jun 2017   Prob (F-statistic):              0.497\n",
      "Time:                        19:32:55   Log-Likelihood:                -293.74\n",
      "No. Observations:                1741   AIC:                             591.5\n",
      "Df Residuals:                    1739   BIC:                             602.4\n",
      "Df Model:                           1                                         \n",
      "Covariance Type:            nonrobust                                         \n",
      "==============================================================================\n",
      "                 coef    std err          t      P>|t|      [95.0% Conf. Int.]\n",
      "------------------------------------------------------------------------------\n",
      "Intercept      0.5276      0.026     20.486      0.000         0.477     0.578\n",
      "SP_LIMIT       0.0003      0.001      0.680      0.497        -0.001     0.001\n",
      "==============================================================================\n",
      "Omnibus:                      367.991   Durbin-Watson:                   1.946\n",
      "Prob(Omnibus):                  0.000   Jarque-Bera (JB):              165.138\n",
      "Skew:                           0.591   Prob(JB):                     1.38e-36\n",
      "Kurtosis:                       2.062   Cond. No.                         192.\n",
      "==============================================================================\n",
      "\n",
      "Warnings:\n",
      "[1] Standard Errors assume that the covariance matrix of the errors is correctly specified.\n"
     ]
    }
   ],
   "source": [
    "# Print out the summary results of the model fitting\n",
    "print(res_2.summary())"
   ]
  },
  {
   "cell_type": "code",
   "execution_count": 24,
   "metadata": {
    "collapsed": true
   },
   "outputs": [],
   "source": [
    "# 3e3) Based on the model we ran above (using alpha value of 0.05), p = 0.497, which is larger \n",
    "#than 0.05. Therefore, the speed limit cannot significantly predict death rate.\n",
    "\n"
   ]
  },
  {
   "cell_type": "markdown",
   "metadata": {},
   "source": [
    "Below is the linear model analysis for 'number of drunk drivers' and 'death rate'"
   ]
  },
  {
   "cell_type": "code",
   "execution_count": 25,
   "metadata": {
    "collapsed": true
   },
   "outputs": [],
   "source": [
    "# 3f1) Create a new dataframe, called 'df3', which only includes data from 'DRUNK_DR' and 'D_RATE column.\n",
    "df3 = df\n",
    "df3 = df3.drop(['PERSONS','NO_LANES','SP_LIMIT','FATALS'],axis=1)\n",
    "#Your code here"
   ]
  },
  {
   "cell_type": "code",
   "execution_count": 26,
   "metadata": {
    "collapsed": true
   },
   "outputs": [],
   "source": [
    "# 3f2) Create a linear model to predict death rate from the number of drunk drivers (using df3 as data).\n",
    "#  Use patsy.dmatrices to create the design matrices, calling the outputs 'outcome_3', 'predictors_3'\n",
    "#  Create an OLS model (sm.OLS) using 'outcome_3' and 'predictors_3'. Call it 'mod_3'.\n",
    "#  Fit the model, assigning it to 'res_3'\n",
    "\n",
    "outcome_3, predictors_3 = patsy.dmatrices('D_RATE ~ DRUNK_DR', df3)\n",
    "mod_3 = sm.OLS(outcome_3, predictors_3)\n",
    "res_3 = mod_3.fit()"
   ]
  },
  {
   "cell_type": "code",
   "execution_count": 27,
   "metadata": {
    "collapsed": false
   },
   "outputs": [
    {
     "name": "stdout",
     "output_type": "stream",
     "text": [
      "                            OLS Regression Results                            \n",
      "==============================================================================\n",
      "Dep. Variable:                 D_RATE   R-squared:                       0.000\n",
      "Model:                            OLS   Adj. R-squared:                 -0.000\n",
      "Method:                 Least Squares   F-statistic:                    0.4717\n",
      "Date:                Tue, 13 Jun 2017   Prob (F-statistic):              0.492\n",
      "Time:                        19:32:55   Log-Likelihood:                -293.73\n",
      "No. Observations:                1741   AIC:                             591.5\n",
      "Df Residuals:                    1739   BIC:                             602.4\n",
      "Df Model:                           1                                         \n",
      "Covariance Type:            nonrobust                                         \n",
      "==============================================================================\n",
      "                 coef    std err          t      P>|t|      [95.0% Conf. Int.]\n",
      "------------------------------------------------------------------------------\n",
      "Intercept      0.5411      0.008     64.107      0.000         0.525     0.558\n",
      "DRUNK_DR       0.0073      0.011      0.687      0.492        -0.014     0.028\n",
      "==============================================================================\n",
      "Omnibus:                      368.696   Durbin-Watson:                   1.947\n",
      "Prob(Omnibus):                  0.000   Jarque-Bera (JB):              167.051\n",
      "Skew:                           0.597   Prob(JB):                     5.31e-37\n",
      "Kurtosis:                       2.062   Cond. No.                         2.03\n",
      "==============================================================================\n",
      "\n",
      "Warnings:\n",
      "[1] Standard Errors assume that the covariance matrix of the errors is correctly specified.\n"
     ]
    }
   ],
   "source": [
    "# Print out the summary results of the model fitting\n",
    "print(res_3.summary())"
   ]
  },
  {
   "cell_type": "code",
   "execution_count": 28,
   "metadata": {
    "collapsed": true
   },
   "outputs": [],
   "source": [
    "# 3f3) Based on the model we ran above (using alpha value of 0.05), p = 0.492, which is larger \n",
    "#than 0.05. Therefore, the number of drunk drivers cannot significantly predict death rate."
   ]
  },
  {
   "cell_type": "markdown",
   "metadata": {},
   "source": [
    "Below is the linear model analysis that use 'number of drunk drivers' and 'number of lanes' to predict death rate"
   ]
  },
  {
   "cell_type": "code",
   "execution_count": 29,
   "metadata": {
    "collapsed": false
   },
   "outputs": [],
   "source": [
    "# 4b+c) number of lanes and drunk driver\n",
    "# 4b+c 1) create a new dataframe \"df_lanedrunk\", with only number of lanes, number of drunk drivers and\n",
    "# death rate\n",
    "\n",
    "df_lanedrunk = df\n",
    "df_lanedrunk = df_lanedrunk.drop(['PERSONS','SP_LIMIT','FATALS'],axis=1)\n",
    "#df_lanedrunk"
   ]
  },
  {
   "cell_type": "code",
   "execution_count": 30,
   "metadata": {
    "collapsed": true
   },
   "outputs": [],
   "source": [
    "# 4b+c 2) Create a linear model to predict death rate from the number of lanes and drunk drivers(using df_lanedrunk as data).\n",
    "#  Use patsy.dmatrices to create the design matrices, calling the outputs 'outcome_lanedrunk', 'predictors_lanedrunk'\n",
    "#  Create an OLS model (sm.OLS) using 'outcome_lanedrunk' and 'predictors_lanedrunk'. Call it 'mod_lanedrunk'.\n",
    "#  Fit the model, assigning it to 'res_lanedrunk'\n",
    "\n",
    "outcome_lanedrunk, predictors_lanedrunk = patsy.dmatrices('D_RATE ~ DRUNK_DR + NO_LANES', df_lanedrunk)\n",
    "mod_lanedrunk = sm.OLS(outcome_lanedrunk, predictors_lanedrunk)\n",
    "res_lanedrunk = mod_lanedrunk.fit()"
   ]
  },
  {
   "cell_type": "code",
   "execution_count": 31,
   "metadata": {
    "collapsed": false
   },
   "outputs": [
    {
     "name": "stdout",
     "output_type": "stream",
     "text": [
      "                            OLS Regression Results                            \n",
      "==============================================================================\n",
      "Dep. Variable:                 D_RATE   R-squared:                       0.011\n",
      "Model:                            OLS   Adj. R-squared:                  0.010\n",
      "Method:                 Least Squares   F-statistic:                     9.635\n",
      "Date:                Tue, 13 Jun 2017   Prob (F-statistic):           6.89e-05\n",
      "Time:                        19:32:55   Log-Likelihood:                -284.37\n",
      "No. Observations:                1741   AIC:                             574.7\n",
      "Df Residuals:                    1738   BIC:                             591.1\n",
      "Df Model:                           2                                         \n",
      "Covariance Type:            nonrobust                                         \n",
      "==============================================================================\n",
      "                 coef    std err          t      P>|t|      [95.0% Conf. Int.]\n",
      "------------------------------------------------------------------------------\n",
      "Intercept      0.6029      0.017     36.438      0.000         0.570     0.635\n",
      "DRUNK_DR       0.0091      0.011      0.863      0.388        -0.012     0.030\n",
      "NO_LANES      -0.0220      0.005     -4.335      0.000        -0.032    -0.012\n",
      "==============================================================================\n",
      "Omnibus:                      350.788   Durbin-Watson:                   1.967\n",
      "Prob(Omnibus):                  0.000   Jarque-Bera (JB):              159.326\n",
      "Skew:                           0.578   Prob(JB):                     2.53e-35\n",
      "Kurtosis:                       2.072   Cond. No.                         8.43\n",
      "==============================================================================\n",
      "\n",
      "Warnings:\n",
      "[1] Standard Errors assume that the covariance matrix of the errors is correctly specified.\n"
     ]
    }
   ],
   "source": [
    "# Print out the summary results of the model fitting\n",
    "print(res_lanedrunk.summary())"
   ]
  },
  {
   "cell_type": "code",
   "execution_count": 32,
   "metadata": {
    "collapsed": true
   },
   "outputs": [],
   "source": [
    "# 4b+c 3) Based on the model we ran above (using alpha value of 0.05), p = 0.388, which is larger \n",
    "#than 0.05. Therefore, the number of lanes and drunk drivers cannot significantly \n",
    "#predict death rate."
   ]
  },
  {
   "cell_type": "markdown",
   "metadata": {},
   "source": [
    "Below is the linear model to predict death rate from 'speed limit' and 'the number of drunk drivers'"
   ]
  },
  {
   "cell_type": "code",
   "execution_count": 33,
   "metadata": {
    "collapsed": false
   },
   "outputs": [],
   "source": [
    "# 4a+c) speed limit and drunk drivers\n",
    "# 4a+c 1) create a new dataframe \"df_speeddrunk\", with only speed limit, number of drunk drivers and death rate\n",
    "df_speeddrunk = df\n",
    "df_speeddrunk = df_speeddrunk.drop(['PERSONS','NO_LANES','FATALS'], axis = 1)\n",
    "#df_speeddrunk"
   ]
  },
  {
   "cell_type": "code",
   "execution_count": 34,
   "metadata": {
    "collapsed": true
   },
   "outputs": [],
   "source": [
    "# 4a+c 2) Create a linear model to predict death rate from speed limit and drunk drivers (using df_speeddrunk as data).\n",
    "#  Use patsy.dmatrices to create the design matrices, calling the outputs 'outcome_speeddrunk', 'predictors_speeddrunk'\n",
    "#  Create an OLS model (sm.OLS) using 'outcome_speeddrunk' and 'predictors_speeddrunk'. Call it 'mod_speeddrunk'.\n",
    "#  Fit the model, assigning it to 'res_speeddrunk'\n",
    "outcome_speeddrunk, predictors_speeddrunk = patsy.dmatrices('D_RATE ~ SP_LIMIT + DRUNK_DR', df_speeddrunk)\n",
    "mod_speeddrunk = sm.OLS(outcome_speeddrunk, predictors_speeddrunk)\n",
    "res_speeddrunk = mod_speeddrunk.fit()"
   ]
  },
  {
   "cell_type": "code",
   "execution_count": 35,
   "metadata": {
    "collapsed": false
   },
   "outputs": [
    {
     "name": "stdout",
     "output_type": "stream",
     "text": [
      "                            OLS Regression Results                            \n",
      "==============================================================================\n",
      "Dep. Variable:                 D_RATE   R-squared:                       0.001\n",
      "Model:                            OLS   Adj. R-squared:                 -0.001\n",
      "Method:                 Least Squares   F-statistic:                    0.4696\n",
      "Date:                Tue, 13 Jun 2017   Prob (F-statistic):              0.625\n",
      "Time:                        19:32:55   Log-Likelihood:                -293.50\n",
      "No. Observations:                1741   AIC:                             593.0\n",
      "Df Residuals:                    1738   BIC:                             609.4\n",
      "Df Model:                           2                                         \n",
      "Covariance Type:            nonrobust                                         \n",
      "==============================================================================\n",
      "                 coef    std err          t      P>|t|      [95.0% Conf. Int.]\n",
      "------------------------------------------------------------------------------\n",
      "Intercept      0.5241      0.026     19.968      0.000         0.473     0.576\n",
      "SP_LIMIT       0.0003      0.001      0.684      0.494        -0.001     0.001\n",
      "DRUNK_DR       0.0074      0.011      0.691      0.490        -0.014     0.028\n",
      "==============================================================================\n",
      "Omnibus:                      366.623   Durbin-Watson:                   1.947\n",
      "Prob(Omnibus):                  0.000   Jarque-Bera (JB):              165.069\n",
      "Skew:                           0.591   Prob(JB):                     1.43e-36\n",
      "Kurtosis:                       2.063   Cond. No.                         197.\n",
      "==============================================================================\n",
      "\n",
      "Warnings:\n",
      "[1] Standard Errors assume that the covariance matrix of the errors is correctly specified.\n"
     ]
    }
   ],
   "source": [
    "# Print out the summary results of the model fitting\n",
    "print(res_speeddrunk.summary())"
   ]
  },
  {
   "cell_type": "code",
   "execution_count": 36,
   "metadata": {
    "collapsed": true
   },
   "outputs": [],
   "source": [
    "# 4a+c 3) Based on the model we ran above (using alpha value of 0.05), p = 0.494, which is larger \n",
    "#than 0.05. Therefore, the speed limit and drunk drivers cannot significantly \n",
    "#predict death rate."
   ]
  },
  {
   "cell_type": "markdown",
   "metadata": {},
   "source": [
    "Below is the linear mode to predict death rate from the number of lanes and speed limit. "
   ]
  },
  {
   "cell_type": "code",
   "execution_count": 37,
   "metadata": {
    "collapsed": false
   },
   "outputs": [],
   "source": [
    "# 4a+b number of lanes and speed limit\n",
    "# 4a+b 1) Create a new dataframe \"df_lane_speed\", with only number of lanes, speed limit and death rate\n",
    "\n",
    "df_lane_speed = df\n",
    "df_lane_speed = df_lane_speed.drop(['PERSONS','DRUNK_DR','FATALS'],axis=1)\n",
    "#df_lane_speed"
   ]
  },
  {
   "cell_type": "code",
   "execution_count": 38,
   "metadata": {
    "collapsed": false
   },
   "outputs": [
    {
     "name": "stdout",
     "output_type": "stream",
     "text": [
      "                            OLS Regression Results                            \n",
      "==============================================================================\n",
      "Dep. Variable:                 D_RATE   R-squared:                       0.011\n",
      "Model:                            OLS   Adj. R-squared:                  0.010\n",
      "Method:                 Least Squares   F-statistic:                     9.660\n",
      "Date:                Tue, 13 Jun 2017   Prob (F-statistic):           6.73e-05\n",
      "Time:                        19:32:55   Log-Likelihood:                -284.35\n",
      "No. Observations:                1741   AIC:                             574.7\n",
      "Df Residuals:                    1738   BIC:                             591.1\n",
      "Df Model:                           2                                         \n",
      "Covariance Type:            nonrobust                                         \n",
      "==============================================================================\n",
      "                 coef    std err          t      P>|t|      [95.0% Conf. Int.]\n",
      "------------------------------------------------------------------------------\n",
      "Intercept      0.5852      0.029     20.280      0.000         0.529     0.642\n",
      "SP_LIMIT       0.0004      0.001      0.891      0.373        -0.001     0.001\n",
      "NO_LANES      -0.0221      0.005     -4.342      0.000        -0.032    -0.012\n",
      "==============================================================================\n",
      "Omnibus:                      351.959   Durbin-Watson:                   1.966\n",
      "Prob(Omnibus):                  0.000   Jarque-Bera (JB):              156.893\n",
      "Skew:                           0.569   Prob(JB):                     8.53e-35\n",
      "Kurtosis:                       2.069   Cond. No.                         218.\n",
      "==============================================================================\n",
      "\n",
      "Warnings:\n",
      "[1] Standard Errors assume that the covariance matrix of the errors is correctly specified.\n"
     ]
    }
   ],
   "source": [
    "# 4a+b 2) Create a linear model to predict number of lanes and speed limit from death rate (df_lane_speed ).\n",
    "#  Use patsy.dmatrices to create the design matrices, calling the outputs 'outcome_lane_speed', 'predictors_lane_speed'\n",
    "#  Create an OLS model (sm.OLS) using 'outcome_lane_speed' and 'predictors_laned_speed'. Call it 'mod_lane_speed'.\n",
    "#  Fit the model, assigning it to 'res_lane_speed'\n",
    "\n",
    "outcome_lane_speed, predictors_lane_speed = patsy.dmatrices('D_RATE ~ SP_LIMIT + NO_LANES', df_lane_speed)\n",
    "mod_lane_speed = sm.OLS(outcome_lane_speed, predictors_lane_speed)\n",
    "res_lane_speed = mod_lane_speed.fit()\n",
    "\n",
    "print(res_lane_speed.summary())"
   ]
  },
  {
   "cell_type": "code",
   "execution_count": 39,
   "metadata": {
    "collapsed": true
   },
   "outputs": [],
   "source": [
    "# 4a+b 3) Based on the model we ran above (using alpha value of 0.05), p = 0.373, which is much larger than 0.05. \n",
    "#Therefore, we cannot predict death rate from the number of lanes and speed limit effectively."
   ]
  },
  {
   "cell_type": "markdown",
   "metadata": {},
   "source": [
    "Below is the linear mode to predict death rate from all three variables "
   ]
  },
  {
   "cell_type": "code",
   "execution_count": 40,
   "metadata": {
    "collapsed": false
   },
   "outputs": [
    {
     "name": "stdout",
     "output_type": "stream",
     "text": [
      "                            OLS Regression Results                            \n",
      "==============================================================================\n",
      "Dep. Variable:                 D_RATE   R-squared:                       0.011\n",
      "Model:                            OLS   Adj. R-squared:                  0.010\n",
      "Method:                 Least Squares   F-statistic:                     6.691\n",
      "Date:                Tue, 13 Jun 2017   Prob (F-statistic):           0.000173\n",
      "Time:                        19:32:56   Log-Likelihood:                -283.97\n",
      "No. Observations:                1741   AIC:                             575.9\n",
      "Df Residuals:                    1737   BIC:                             597.8\n",
      "Df Model:                           3                                         \n",
      "Covariance Type:            nonrobust                                         \n",
      "==============================================================================\n",
      "                 coef    std err          t      P>|t|      [95.0% Conf. Int.]\n",
      "------------------------------------------------------------------------------\n",
      "Intercept      0.5813      0.029     19.904      0.000         0.524     0.639\n",
      "SP_LIMIT       0.0004      0.001      0.897      0.370        -0.001     0.001\n",
      "DRUNK_DR       0.0092      0.011      0.870      0.385        -0.012     0.030\n",
      "NO_LANES      -0.0222      0.005     -4.373      0.000        -0.032    -0.012\n",
      "==============================================================================\n",
      "Omnibus:                      349.473   Durbin-Watson:                   1.968\n",
      "Prob(Omnibus):                  0.000   Jarque-Bera (JB):              156.781\n",
      "Skew:                           0.570   Prob(JB):                     9.03e-35\n",
      "Kurtosis:                       2.071   Cond. No.                         221.\n",
      "==============================================================================\n",
      "\n",
      "Warnings:\n",
      "[1] Standard Errors assume that the covariance matrix of the errors is correctly specified.\n"
     ]
    }
   ],
   "source": [
    "# Linear model for all three variables:\n",
    "outcome_three, predictors_three = patsy.dmatrices('D_RATE ~ SP_LIMIT + DRUNK_DR + NO_LANES', df)\n",
    "mod_three = sm.OLS(outcome_three, predictors_three)\n",
    "res_three = mod_three.fit()\n",
    "# Print out the summary results of the model fitting\n",
    "print(res_three.summary())"
   ]
  },
  {
   "cell_type": "code",
   "execution_count": 42,
   "metadata": {
    "collapsed": false
   },
   "outputs": [],
   "source": [
    "#Based on the model we ran above (using alpha value of 0.05), p = 0.370, which is much larger than 0.05. \n",
    "#Therefore, we cannot predict death rate from the the combination of all three variables effectively."
   ]
  },
  {
   "cell_type": "markdown",
   "metadata": {},
   "source": [
    "# Findings\n",
    "Our hypothesis is that \"Car accidents with higher death rates were happened in areas with higher speed limit and less lanes, as well as with drunk drivers involved\". Through this data analysis process, we were expecting to find some linar relationships between death rate and the speed limit, number of lanes and the number of drunk drivers involved. \n",
    "\n",
    "While we were analyzing the relationship between one of the above variables and the death rate, the only linear relationship that we found was between the 'number of lanes' and 'death rate'.\n",
    "- Based on the linear model analysis for 'number of lanes' and 'death rate' that we ran above （part 3d2）, p value is 0.00, which indicades the significance of this linar relationship. \n",
    "- Moreover, the Pearson's coefficient for the 'number of lanes' and 'death rate' is -0.103 (part 2d1), which indicates that these two variables are negatively correlated. \n",
    "- Therefore, it supports our hypothesis that 'car accidents with higher death rates were happened in areas with less number of lanes' \n",
    "- In addition, based on the bar graph and mode (part 2a1 & part 3a), we found that most car accidents (1033 out of 1471) were happened in two-lane roads. \n",
    "\n",
    "Unfortunatly, we didn't find any linear relationship that can predict death rate based on speed limit or the number of drunk drivers invloved. The reason is that all the p-values associated were greater than 0.05, which shows that these variables cannot significantly predict death rate. \n",
    "- p value of linear model analysis for 'speed limit' and 'death rate'(part 3d2): 0.497\n",
    "- p value of linear model analysis for 'number of drunk drivers involved' and 'death rate'(part 3f2): 0.492\n",
    "\n",
    "Then, we build linear models which predict death rate from the combination of two out of the three variables: 'number of lanes + number of drunk drivers', 'number of lanes + speed limit', 'speed limit + number of drunk drivers', and the combination of all the three variables. \n",
    "- p value of linear model analysis for 'number of lanes + number of drunk drivers' and 'death rate': 0.388\n",
    "- p value of linear model analysis for 'number of lanes + speed limit' and 'death rate': 0.373\n",
    "- p value of linear model analysis for 'speed limit + number of drunk drivers': 0.494\n",
    "- p value of linear model analysis for all three variables: 0.370\n",
    "All of the above p values are larger than 0.05. \n",
    "\n",
    "Therefore, based on the modes we ran above, we cannot fully support our hypothsis.\n",
    "\n",
    "However, according to the bar graphs and mode number (part 2b1 & part 3b), we found that most car accidents were happened in areas with speed limit of 55 - 60 mph (494 out of 1741, 28.37%) and 65 - 70 mph (443 out of 1741, 25.45%), so driver under a high speed limit may increse the risk of encountering car accidents. \n",
    "\n",
    "We also found that 39.17% car accidents were happened with drunk drivers invloved (part 3c). Even thought the number of drunk drivers cannot significantly perdict death rates, this percentage still shows that drunk driving is dangerous.  "
   ]
  },
  {
   "cell_type": "markdown",
   "metadata": {},
   "source": [
    "# Discussion and Conclusion\n",
    "It is reasonable that hypothesis does not work as expected, since 1741 observations might still be too small to generate a result to support out hypothesis. Moreover, there are many variants in the real world that are easily to be ignored. \n",
    "\n",
    "There are several potential confounds, which might have influenced our study. For example, the age when people first start to drive. Some people learn how to drive when they were still  teenegers, but some people don’t know how to drive until the age of 20. And normally, novices drive more carefully and tend to cause less fatal accidents. Also, conditions of the roads may also contribute to the numbers of car accidents. If the road is not flat, or there are small rocks on the streets, the numbers of accidents occurred in this area may be larger than the numbers of accidents in others areas. There are many variants for individual driver and individual street, and they can all be possible confounds in our study.\n",
    "\n",
    "We avoided potential pitfalls that might occour in a study. There are several pitfalls in a statistical study: sources of bias, errors in methodology (statistical power, multiple comparisons, measurement error), problems with interpretation (confusion over significance, precision and accuracy, causality, graphical representations). \n",
    "- In our study, our source is not biased since we use a huge dataset which has every information we need. \n",
    "- Since we were using Python to analyse our data, and the methods we were using were those we learned from this class. The only new method that we will apply is polynomial linear regression, and in order to avoid errors, we did enough researches and communicated with TAs about our method. Also, because we were not using power, level of significance or other statistical tools to analyse, we did not encounter many problems in our methodology.\n",
    "\n",
    "In conclusion, we cannot support the hypothsis that \"car accidents with higher death rates were happened in areas with higher speed limit and less lanes, as well as with drunk drivers involved\". The reason is that there is no linear relationship bewteen the combination of the three variables (speed limit, number of lanes, or number of drunk drivers) and death rate. However, there is a linar relationship number of lanes and death rate, and increasing the number of lanes on road would decrese the death rate of car accidents. \n"
   ]
  }
 ],
 "metadata": {
  "kernelspec": {
   "display_name": "Python 3",
   "language": "python",
   "name": "python3"
  },
  "language_info": {
   "codemirror_mode": {
    "name": "ipython",
    "version": 3
   },
   "file_extension": ".py",
   "mimetype": "text/x-python",
   "name": "python",
   "nbconvert_exporter": "python",
   "pygments_lexer": "ipython3",
   "version": "3.6.0"
  }
 },
 "nbformat": 4,
 "nbformat_minor": 2
}
